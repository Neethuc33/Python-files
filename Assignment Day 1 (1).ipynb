{
 "cells": [
  {
   "cell_type": "code",
   "execution_count": 6,
   "id": "78777c27-bad7-4956-8146-57f45f4bebf2",
   "metadata": {},
   "outputs": [
    {
     "name": "stdout",
     "output_type": "stream",
     "text": [
      "Python Version\n"
     ]
    }
   ],
   "source": [
    "import sys\n",
    "print (\"Python Version\")"
   ]
  },
  {
   "cell_type": "code",
   "execution_count": 2,
   "id": "3da7f523-bf9a-4e8f-b79e-14928f00f930",
   "metadata": {},
   "outputs": [
    {
     "name": "stdout",
     "output_type": "stream",
     "text": [
      "3.12.4 | packaged by Anaconda, Inc. | (main, Jun 18 2024, 15:03:56) [MSC v.1929 64 bit (AMD64)]\n"
     ]
    }
   ],
   "source": [
    "print (sys.version)"
   ]
  },
  {
   "cell_type": "code",
   "execution_count": 3,
   "id": "764c71da-307d-4d28-8de4-6971053808f7",
   "metadata": {},
   "outputs": [
    {
     "name": "stdout",
     "output_type": "stream",
     "text": [
      "Version info.\n"
     ]
    }
   ],
   "source": [
    "print(\"Version info.\")"
   ]
  },
  {
   "cell_type": "code",
   "execution_count": 4,
   "id": "3f768102-f38a-451c-b897-7fb0d992cc0f",
   "metadata": {},
   "outputs": [
    {
     "name": "stdout",
     "output_type": "stream",
     "text": [
      "sys.version_info(major=3, minor=12, micro=4, releaselevel='final', serial=0)\n"
     ]
    }
   ],
   "source": [
    "print (sys.version_info)"
   ]
  },
  {
   "cell_type": "code",
   "execution_count": null,
   "id": "edfbec27-e64d-4af5-9584-5ec11bb4ba4f",
   "metadata": {},
   "outputs": [],
   "source": [
    "\n",
    "help('modules')\n"
   ]
  },
  {
   "cell_type": "code",
   "execution_count": null,
   "id": "8261e145-a0da-4f3e-83cd-c6920ea85857",
   "metadata": {},
   "outputs": [],
   "source": [
    "import datetime\n",
    "x = datetime.datetime.now()\n",
    "print(x)"
   ]
  },
  {
   "cell_type": "code",
   "execution_count": 7,
   "id": "5619a799-fe9a-48aa-87fc-552a2bc70f44",
   "metadata": {},
   "outputs": [
    {
     "name": "stdout",
     "output_type": "stream",
     "text": [
      "2024-07-10 05:49:27.553168\n"
     ]
    }
   ],
   "source": [
    "import datetime\n",
    "x = datetime.datetime.now()\n",
    "print(x)\n"
   ]
  },
  {
   "cell_type": "code",
   "execution_count": 19,
   "id": "2177c9df-55fd-47bc-99ee-499aee9f466e",
   "metadata": {},
   "outputs": [
    {
     "name": "stdout",
     "output_type": "stream",
     "text": [
      "Current date and time :\n",
      "10-07-24 05:57:38\n"
     ]
    }
   ],
   "source": [
    "import datetime\n",
    "x = datetime.datetime. now()\n",
    "print (\"Current date and time :\")\n",
    "print (x.strftime(\"%d-%m-%y %H:%M:%S\"))\n"
   ]
  },
  {
   "cell_type": "code",
   "execution_count": 25,
   "id": "06a98aed-596d-4b7a-a72f-8576ad9bf5fd",
   "metadata": {},
   "outputs": [
    {
     "name": "stdin",
     "output_type": "stream",
     "text": [
      "Enter the radius of the cicrle : 4\n"
     ]
    },
    {
     "name": "stdout",
     "output_type": "stream",
     "text": [
      "The area of the circle is : 4.0\n"
     ]
    },
    {
     "data": {
      "text/plain": [
       "'25.132741228718345'"
      ]
     },
     "execution_count": 25,
     "metadata": {},
     "output_type": "execute_result"
    }
   ],
   "source": [
    "from math import pi\n",
    "r = float(input(\"Enter the radius of the cicrle :\"))\n",
    "print(\"The area of the circle is : \"  + str(r) + \"\")\n",
    "str(pi *r*2)"
   ]
  },
  {
   "cell_type": "code",
   "execution_count": 27,
   "id": "2eecd390-0289-49f6-975b-d7dc5c5c68e0",
   "metadata": {},
   "outputs": [
    {
     "name": "stdin",
     "output_type": "stream",
     "text": [
      "Enter the radius of the cicrle : 1.1\n"
     ]
    },
    {
     "name": "stdout",
     "output_type": "stream",
     "text": [
      "The area of the circle is : 1.1\n"
     ]
    },
    {
     "data": {
      "text/plain": [
       "'3.8013271108436504'"
      ]
     },
     "execution_count": 27,
     "metadata": {},
     "output_type": "execute_result"
    }
   ],
   "source": [
    "from math import pi\n",
    "r = float(input(\"Enter the radius of the cicrle :\"))\n",
    "print(\"The area of the circle is : \"  + str(r) + \"\")\n",
    "str(pi *r**2)"
   ]
  },
  {
   "cell_type": "code",
   "execution_count": 28,
   "id": "2441a11c-73e1-46d5-959e-797f55f4117c",
   "metadata": {},
   "outputs": [
    {
     "data": {
      "text/plain": [
       "3.141592653589793"
      ]
     },
     "execution_count": 28,
     "metadata": {},
     "output_type": "execute_result"
    }
   ],
   "source": [
    "from math import pi\n",
    "pi"
   ]
  },
  {
   "cell_type": "code",
   "execution_count": null,
   "id": "7b7b7350-bb28-4215-99df-d64d5483ab4e",
   "metadata": {},
   "outputs": [],
   "source": [
    "''4.Write a Python program which accepts the user's first and last name and print them in reverse order with a space between them \n"
   ]
  },
  {
   "cell_type": "code",
   "execution_count": 6,
   "id": "b7c2737a-02f1-4bf5-8ef7-79355f79c986",
   "metadata": {},
   "outputs": [
    {
     "name": "stdin",
     "output_type": "stream",
     "text": [
      "Enter yhe first name Neethu\n",
      "Enter the last name R\n"
     ]
    },
    {
     "name": "stdout",
     "output_type": "stream",
     "text": [
      "Hello R Neethu\n"
     ]
    }
   ],
   "source": [
    "fname=input(\"Enter yhe first name\")\n",
    "lname=input(\"Enter the last name\")\n",
    "print(\"Hello \" + lname +\" \" +fname)"
   ]
  },
  {
   "cell_type": "code",
   "execution_count": null,
   "id": "3d5733ec-2b8d-4f2c-aa9e-1e567966f374",
   "metadata": {},
   "outputs": [],
   "source": [
    "''5.Write a Python program which accepts a sequence of comma-separated numbers from user and generate a list and a tuple with those numbers"
   ]
  },
  {
   "cell_type": "code",
   "execution_count": 18,
   "id": "1478fdce-ba11-4e90-8f7f-29d345a971db",
   "metadata": {},
   "outputs": [
    {
     "name": "stdin",
     "output_type": "stream",
     "text": [
      "Enter the sequence of numbers with comma : 2,3,4,5,6,7\n"
     ]
    },
    {
     "ename": "TypeError",
     "evalue": "'list' object is not callable",
     "output_type": "error",
     "traceback": [
      "\u001b[1;31m---------------------------------------------------------------------------\u001b[0m",
      "\u001b[1;31mTypeError\u001b[0m                                 Traceback (most recent call last)",
      "Cell \u001b[1;32mIn[18], line 3\u001b[0m\n\u001b[0;32m      1\u001b[0m value \u001b[38;5;241m=\u001b[39m \u001b[38;5;28minput\u001b[39m(\u001b[38;5;124m\"\u001b[39m\u001b[38;5;124mEnter the sequence of numbers with comma :\u001b[39m\u001b[38;5;124m\"\u001b[39m)\n\u001b[0;32m      2\u001b[0m list1 \u001b[38;5;241m=\u001b[39m value\u001b[38;5;241m.\u001b[39msplit(\u001b[38;5;124m'\u001b[39m\u001b[38;5;124m,\u001b[39m\u001b[38;5;124m'\u001b[39m)\n\u001b[1;32m----> 3\u001b[0m tuple1 \u001b[38;5;241m=\u001b[39m \u001b[38;5;28mtuple\u001b[39m(list1)\n\u001b[0;32m      4\u001b[0m \u001b[38;5;28mprint\u001b[39m (list1)\n\u001b[0;32m      5\u001b[0m \u001b[38;5;28mprint\u001b[39m (tuple1)\n",
      "\u001b[1;31mTypeError\u001b[0m: 'list' object is not callable"
     ]
    }
   ],
   "source": [
    "value = input(\"Enter the sequence of numbers with comma :\")\n",
    "list1 = value.split(',')\n",
    "tuple1 = tuple(list1)\n",
    "print (list1)\n",
    "print (tuple1)"
   ]
  },
  {
   "cell_type": "code",
   "execution_count": 19,
   "id": "8dbea20f-dd1c-486f-892a-92c2a63a4a7c",
   "metadata": {},
   "outputs": [
    {
     "name": "stdin",
     "output_type": "stream",
     "text": [
      "Enter a sequence of comma-separated numbers:  2,3,4,5,6,\n"
     ]
    },
    {
     "ename": "ValueError",
     "evalue": "invalid literal for int() with base 10: ''",
     "output_type": "error",
     "traceback": [
      "\u001b[1;31m---------------------------------------------------------------------------\u001b[0m",
      "\u001b[1;31mValueError\u001b[0m                                Traceback (most recent call last)",
      "Cell \u001b[1;32mIn[19], line 3\u001b[0m\n\u001b[0;32m      1\u001b[0m input_sequence \u001b[38;5;241m=\u001b[39m \u001b[38;5;28minput\u001b[39m(\u001b[38;5;124m\"\u001b[39m\u001b[38;5;124mEnter a sequence of comma-separated numbers: \u001b[39m\u001b[38;5;124m\"\u001b[39m)\n\u001b[0;32m      2\u001b[0m list_of_strings \u001b[38;5;241m=\u001b[39m input_sequence\u001b[38;5;241m.\u001b[39msplit(\u001b[38;5;124m'\u001b[39m\u001b[38;5;124m,\u001b[39m\u001b[38;5;124m'\u001b[39m)\n\u001b[1;32m----> 3\u001b[0m list_of_numbers \u001b[38;5;241m=\u001b[39m [\u001b[38;5;28mint\u001b[39m(num) \u001b[38;5;28;01mfor\u001b[39;00m num \u001b[38;5;129;01min\u001b[39;00m list_of_strings]\n\u001b[0;32m      4\u001b[0m tuple_of_numbers \u001b[38;5;241m=\u001b[39m \u001b[38;5;28mtuple\u001b[39m(list_of_numbers)\n\u001b[0;32m      5\u001b[0m \u001b[38;5;28mprint\u001b[39m(\u001b[38;5;124m\"\u001b[39m\u001b[38;5;124mList:\u001b[39m\u001b[38;5;124m\"\u001b[39m, list_of_numbers)\n",
      "\u001b[1;31mValueError\u001b[0m: invalid literal for int() with base 10: ''"
     ]
    }
   ],
   "source": [
    "input_sequence = input(\"Enter a sequence of comma-separated numbers: \")\n",
    "list_of_strings = input_sequence.split(',')\n",
    "list_of_numbers = [int(num) for num in list_of_strings]\n",
    "tuple_of_numbers = tuple(list_of_numbers)\n",
    "print(\"List:\", list_of_numbers)\n",
    "print(\"Tuple:\", tuple_of_numbers)"
   ]
  },
  {
   "cell_type": "code",
   "execution_count": 24,
   "id": "18dd862e-7994-4fae-a702-a7b71160f7fd",
   "metadata": {},
   "outputs": [
    {
     "name": "stdin",
     "output_type": "stream",
     "text": [
      "Input some comma separated numbers :  2,3,4,5,6\n"
     ]
    },
    {
     "ename": "AttributeError",
     "evalue": "'list' object has no attribute 'tuple1'",
     "output_type": "error",
     "traceback": [
      "\u001b[1;31m---------------------------------------------------------------------------\u001b[0m",
      "\u001b[1;31mAttributeError\u001b[0m                            Traceback (most recent call last)",
      "Cell \u001b[1;32mIn[24], line 3\u001b[0m\n\u001b[0;32m      1\u001b[0m values \u001b[38;5;241m=\u001b[39m \u001b[38;5;28minput\u001b[39m(\u001b[38;5;124m\"\u001b[39m\u001b[38;5;124mInput some comma separated numbers : \u001b[39m\u001b[38;5;124m\"\u001b[39m)\n\u001b[0;32m      2\u001b[0m list1 \u001b[38;5;241m=\u001b[39m values\u001b[38;5;241m.\u001b[39msplit(\u001b[38;5;124m\"\u001b[39m\u001b[38;5;124m,\u001b[39m\u001b[38;5;124m\"\u001b[39m)\n\u001b[1;32m----> 3\u001b[0m tuple1 \u001b[38;5;241m=\u001b[39m \u001b[38;5;28mtuple\u001b[39m\u001b[38;5;241m.\u001b[39mtuple1(list1)\n\u001b[0;32m      4\u001b[0m \u001b[38;5;28mprint\u001b[39m(\u001b[38;5;124m'\u001b[39m\u001b[38;5;124mList : \u001b[39m\u001b[38;5;124m'\u001b[39m,list1)\n\u001b[0;32m      5\u001b[0m \u001b[38;5;28mprint\u001b[39m (\u001b[38;5;124m'\u001b[39m\u001b[38;5;124mTuple : \u001b[39m\u001b[38;5;124m'\u001b[39m,tuple1)\n",
      "\u001b[1;31mAttributeError\u001b[0m: 'list' object has no attribute 'tuple1'"
     ]
    }
   ],
   "source": [
    "values = input(\"Input some comma separated numbers : \")\n",
    "list1 = values.split(\",\")\n",
    "tuple1 = tuple.tuple1(list1)\n",
    "print('List : ',list1)\n",
    "print ('Tuple : ',tuple1)"
   ]
  },
  {
   "cell_type": "code",
   "execution_count": 25,
   "id": "650ae2e1-cd4f-4050-a8b3-ba665b90ec76",
   "metadata": {},
   "outputs": [
    {
     "name": "stdout",
     "output_type": "stream",
     "text": [
      "['hello', ' my name is neethu']\n"
     ]
    }
   ],
   "source": [
    "text = \"hello, my name is neethu\"\n",
    "x=text.split(\",\")\n",
    "print (x)\n"
   ]
  },
  {
   "cell_type": "code",
   "execution_count": 26,
   "id": "b80e479a-d716-41af-b649-30bd2c993938",
   "metadata": {},
   "outputs": [
    {
     "name": "stdout",
     "output_type": "stream",
     "text": [
      "['apple', 'banana', 'cherry', 'orange']\n"
     ]
    }
   ],
   "source": [
    "txt = \"apple#banana#cherry#orange\"\n",
    "x=txt.split(\"#\")\n",
    "print(x)"
   ]
  },
  {
   "cell_type": "code",
   "execution_count": null,
   "id": "d007a61e-dc15-4627-8405-1b586bebc15f",
   "metadata": {},
   "outputs": [],
   "source": [
    "'''6.Write a Python program to accept a filename from the user and print the extension of that. "
   ]
  },
  {
   "cell_type": "code",
   "execution_count": 28,
   "id": "48174e56-4ccd-4e5d-b5a4-6855aa796c75",
   "metadata": {},
   "outputs": [
    {
     "name": "stdout",
     "output_type": "stream",
     "text": [
      "2024-07-26 10:42:52.899274\n"
     ]
    }
   ],
   "source": [
    "import datetime\n",
    "today = datetime.datetime.now()\n",
    "print (today)\n"
   ]
  },
  {
   "cell_type": "code",
   "execution_count": 29,
   "id": "e2da4a8e-a91f-4aae-803b-24f191695abb",
   "metadata": {},
   "outputs": [
    {
     "name": "stdout",
     "output_type": "stream",
     "text": [
      "2024-07-26 10:42:52.899274\n"
     ]
    }
   ],
   "source": [
    "print (str(today))"
   ]
  },
  {
   "cell_type": "code",
   "execution_count": 30,
   "id": "07fcc887-9a62-4d2e-9f73-ee0678017f0d",
   "metadata": {},
   "outputs": [
    {
     "name": "stdout",
     "output_type": "stream",
     "text": [
      "datetime.datetime(2024, 7, 26, 10, 42, 52, 899274)\n"
     ]
    }
   ],
   "source": [
    "print (repr(today))"
   ]
  },
  {
   "cell_type": "code",
   "execution_count": null,
   "id": "00ce0791-d888-467e-8db1-f0b3ac7d1d78",
   "metadata": {},
   "outputs": [],
   "source": [
    "\n",
    "''''''7.Write a Python program to display the first and last colors from the following list.  \n"
   ]
  },
  {
   "cell_type": "code",
   "execution_count": 31,
   "id": "c5db06b9-38cf-4d24-9515-d544cad003b1",
   "metadata": {},
   "outputs": [
    {
     "name": "stdout",
     "output_type": "stream",
     "text": [
      "('Red', 'Black')\n"
     ]
    }
   ],
   "source": [
    "color_list = [\"Red\",\"Green\",\"White\" ,\"Black\"]\n",
    "print((color_list[0],color_list[-1]))"
   ]
  },
  {
   "cell_type": "code",
   "execution_count": 32,
   "id": "83c8c435-e38b-491d-bb5c-cba95c3ad7bd",
   "metadata": {},
   "outputs": [
    {
     "name": "stdout",
     "output_type": "stream",
     "text": [
      "Red Black\n"
     ]
    }
   ],
   "source": [
    "color_list = [\"Red\",\"Green\",\"White\" ,\"Black\"]\n",
    "print( \"%s %s\"%(color_list[0],color_list[-1]))"
   ]
  },
  {
   "cell_type": "code",
   "execution_count": null,
   "id": "ba476631-901f-4144-9622-e2d21228fe3a",
   "metadata": {},
   "outputs": [],
   "source": [
    "''''8.Write a Python program that accepts an integer (n) and computes the value of n+nn+nnn. "
   ]
  },
  {
   "cell_type": "code",
   "execution_count": 33,
   "id": "85d15894-2674-46be-a936-021ecacc58ff",
   "metadata": {},
   "outputs": [
    {
     "name": "stdin",
     "output_type": "stream",
     "text": [
      "Enter an integer : 5\n"
     ]
    },
    {
     "name": "stdout",
     "output_type": "stream",
     "text": [
      "615\n"
     ]
    }
   ],
   "source": [
    "a=int(input(\"Enter an integer :\"))\n",
    "n1=int(\"%s\" % a)\n",
    "n2=int(\"%s%s\"%(a,a))\n",
    "n3=int(\"%s%s%s\"%(a,a,a))\n",
    "print(n1+n2+n3)"
   ]
  },
  {
   "cell_type": "code",
   "execution_count": 39,
   "id": "1dbc3ee9-b061-42bf-9895-b3fb8b72ebec",
   "metadata": {},
   "outputs": [
    {
     "name": "stdin",
     "output_type": "stream",
     "text": [
      "enter an integer : 5\n"
     ]
    },
    {
     "name": "stdout",
     "output_type": "stream",
     "text": [
      "615\n"
     ]
    }
   ],
   "source": [
    "a=int(input(\"enter an integer :\"))\n",
    "n1=int(\"%s\" % a)\n",
    "n2=int(\"%s%s\" %(a,a))\n",
    "n3=int(\"%s%s%s\" % (a,a,a))\n",
    "print(n1+n2+n3)"
   ]
  },
  {
   "cell_type": "code",
   "execution_count": null,
   "id": "0ae1cba3-a3e9-4d01-905a-40e9c8521f48",
   "metadata": {},
   "outputs": [],
   "source": [
    "''''9.Write a Python program to get the volume of a sphere with radius 6."
   ]
  },
  {
   "cell_type": "code",
   "execution_count": 42,
   "id": "2b0aa42d-6d35-442e-8297-77f1db7b92f6",
   "metadata": {},
   "outputs": [
    {
     "data": {
      "text/plain": [
       "3.141592653589793"
      ]
     },
     "execution_count": 42,
     "metadata": {},
     "output_type": "execute_result"
    }
   ],
   "source": [
    "from math import pi\n",
    "pi"
   ]
  },
  {
   "cell_type": "code",
   "execution_count": 43,
   "id": "48c56220-a681-4cc4-bb00-023130ef201c",
   "metadata": {},
   "outputs": [
    {
     "name": "stdout",
     "output_type": "stream",
     "text": [
      "904.7786842338603\n"
     ]
    }
   ],
   "source": [
    "pi=3.141592653589793\n",
    "r=6\n",
    "volume=4.0/3.0*pi*r**3\n",
    "print (volume)"
   ]
  },
  {
   "cell_type": "code",
   "execution_count": null,
   "id": "de9a29f5-b09a-4bc1-b975-3c186c22d0a9",
   "metadata": {},
   "outputs": [],
   "source": [
    "''''10. Write a Python program to convert seconds to day, hour, minutes and seconds.  "
   ]
  },
  {
   "cell_type": "code",
   "execution_count": 46,
   "id": "67e31cd0-b987-4fee-aa9f-e0b17c50896f",
   "metadata": {},
   "outputs": [
    {
     "name": "stdin",
     "output_type": "stream",
     "text": [
      "Enter the time in seconds 2600\n"
     ]
    },
    {
     "name": "stdout",
     "output_type": "stream",
     "text": [
      "d:h:m:s-> 0 days : 0 hour : 43 minute : 20 seconds\n"
     ]
    }
   ],
   "source": [
    "time=float(input(\"Enter the time in seconds\"))\n",
    "day=time//(24*3600)\n",
    "time=time%(24*3600)\n",
    "hour=time//3600\n",
    "time=time%3600\n",
    "minute=time//60\n",
    "time=time%60\n",
    "seconds=time\n",
    "print(\"d:h:m:s-> %d days : %d hour : %d minute : %d seconds\"%(day,hour,minute,seconds))"
   ]
  },
  {
   "cell_type": "code",
   "execution_count": null,
   "id": "b1ff31ce-48ef-4d00-a0ba-11b4dc57dd00",
   "metadata": {},
   "outputs": [],
   "source": []
  },
  {
   "cell_type": "code",
   "execution_count": null,
   "id": "9d6168aa-5d83-45cc-834f-576b4fb3d509",
   "metadata": {},
   "outputs": [],
   "source": []
  },
  {
   "cell_type": "code",
   "execution_count": null,
   "id": "68805b36-7743-4b02-9726-e61a01787155",
   "metadata": {},
   "outputs": [],
   "source": []
  },
  {
   "cell_type": "code",
   "execution_count": null,
   "id": "c269a218-d2fd-4689-864b-a86bf68b9cf3",
   "metadata": {},
   "outputs": [],
   "source": []
  },
  {
   "cell_type": "code",
   "execution_count": null,
   "id": "d7ec2ba2-4898-41fc-8bd5-7fd3cf43bc2d",
   "metadata": {},
   "outputs": [],
   "source": [
    "\n"
   ]
  }
 ],
 "metadata": {
  "kernelspec": {
   "display_name": "Python 3 (ipykernel)",
   "language": "python",
   "name": "python3"
  },
  "language_info": {
   "codemirror_mode": {
    "name": "ipython",
    "version": 3
   },
   "file_extension": ".py",
   "mimetype": "text/x-python",
   "name": "python",
   "nbconvert_exporter": "python",
   "pygments_lexer": "ipython3",
   "version": "3.12.4"
  }
 },
 "nbformat": 4,
 "nbformat_minor": 5
}
