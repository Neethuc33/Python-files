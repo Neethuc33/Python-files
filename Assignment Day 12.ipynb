{
 "cells": [
  {
   "cell_type": "code",
   "execution_count": null,
   "id": "c6b791dd-acda-4f0a-8141-4ceddb746066",
   "metadata": {},
   "outputs": [],
   "source": [
    "''Write a NumPy program to convert a list of numeric value into a one-dimensional NumPy array. "
   ]
  },
  {
   "cell_type": "code",
   "execution_count": 1,
   "id": "77dafe6c-900c-45ef-ab88-784f9ddbf2e1",
   "metadata": {},
   "outputs": [
    {
     "name": "stdout",
     "output_type": "stream",
     "text": [
      "Original List: [12.23, 13.32, 100, 36.32]\n",
      "One-dimensional NumPy array:  [ 12.23  13.32 100.    36.32]\n"
     ]
    }
   ],
   "source": [
    "import numpy as np\n",
    "l = [12.23, 13.32, 100, 36.32]\n",
    "print(\"Original List:\",l)\n",
    "a = np.array(l)\n",
    "print(\"One-dimensional NumPy array: \",a)"
   ]
  },
  {
   "cell_type": "code",
   "execution_count": null,
   "id": "76ddc98b-98ec-485e-9cf9-e64f67c73f97",
   "metadata": {},
   "outputs": [],
   "source": [
    "''Write a NumPy program to create a 3x3 matrix with values ranging from 2 to 10.  "
   ]
  },
  {
   "cell_type": "code",
   "execution_count": 2,
   "id": "e837898b-f7b3-4d5f-b330-f18a9b6cbdf8",
   "metadata": {},
   "outputs": [
    {
     "name": "stdout",
     "output_type": "stream",
     "text": [
      "[[ 2  3  4]\n",
      " [ 5  6  7]\n",
      " [ 8  9 10]]\n"
     ]
    }
   ],
   "source": [
    "import numpy as np\n",
    "x =  np.arange(2, 11).reshape(3,3)\n",
    "print(x)"
   ]
  },
  {
   "cell_type": "code",
   "execution_count": null,
   "id": "4ee0bc2e-40fd-4bf8-bb04-59fc3e4a908a",
   "metadata": {},
   "outputs": [],
   "source": [
    "''Write a NumPy program to create a null vector of size 10 and update sixth value to 11. "
   ]
  },
  {
   "cell_type": "code",
   "execution_count": 3,
   "id": "eaed7cc3-017a-4324-878a-28c85136a6b9",
   "metadata": {},
   "outputs": [
    {
     "name": "stdout",
     "output_type": "stream",
     "text": [
      "[0. 0. 0. 0. 0. 0. 0. 0. 0. 0.]\n",
      "Update sixth value to 11\n",
      "[ 0.  0.  0.  0.  0.  0. 11.  0.  0.  0.]\n"
     ]
    }
   ],
   "source": [
    "import numpy as np\n",
    "x = np.zeros(10)\n",
    "print(x)\n",
    "print(\"Update sixth value to 11\")\n",
    "x[6] = 11\n",
    "print(x)"
   ]
  },
  {
   "cell_type": "code",
   "execution_count": null,
   "id": "5091e509-1de3-4f27-8fda-8f90f68cabcd",
   "metadata": {},
   "outputs": [],
   "source": [
    "''Write a NumPy program to create an array with values ranging from 12 to 38. "
   ]
  },
  {
   "cell_type": "code",
   "execution_count": 4,
   "id": "bcef2601-fc2d-4fcc-a440-a90a06f74b45",
   "metadata": {},
   "outputs": [
    {
     "name": "stdout",
     "output_type": "stream",
     "text": [
      "[12 13 14 15 16 17 18 19 20 21 22 23 24 25 26 27 28 29 30 31 32 33 34 35\n",
      " 36 37]\n"
     ]
    }
   ],
   "source": [
    "import numpy as np\n",
    "x = np.arange(12, 38)\n",
    "print(x)"
   ]
  },
  {
   "cell_type": "code",
   "execution_count": null,
   "id": "b04d490e-ae0c-4e0c-9faa-994b5588e229",
   "metadata": {},
   "outputs": [],
   "source": [
    "''Write a NumPy program to reverse an array (first element becomes last). "
   ]
  },
  {
   "cell_type": "code",
   "execution_count": 7,
   "id": "d41f7bf7-b5e6-45ee-8fd3-766d8acf64c2",
   "metadata": {},
   "outputs": [
    {
     "name": "stdout",
     "output_type": "stream",
     "text": [
      "Original Array\n",
      "[12 13 14 15 16 17 18 19 20 21 22 23 24 25 26 27]\n",
      "Reverse Array\n",
      "[27 26 25 24 23 22 21 20 19 18 17 16 15 14 13 12]\n"
     ]
    }
   ],
   "source": [
    "import numpy as np\n",
    "x=np.arange(12,28)\n",
    "print(\"Original Array\")\n",
    "print(x)\n",
    "print(\"Reverse Array\")\n",
    "x=x[::-1]\n",
    "print(x)"
   ]
  },
  {
   "cell_type": "code",
   "execution_count": null,
   "id": "005d6bab-220e-4bd3-9820-e5eea15da5c7",
   "metadata": {},
   "outputs": [],
   "source": [
    "''Write a NumPy program to convert an array to a float type.  "
   ]
  },
  {
   "cell_type": "code",
   "execution_count": 8,
   "id": "e8bc174c-6dde-4771-8539-859420b8fcc8",
   "metadata": {},
   "outputs": [
    {
     "name": "stdout",
     "output_type": "stream",
     "text": [
      "Original array\n",
      "[1, 2, 3, 4]\n",
      "Array converted to a float type:\n",
      "[1. 2. 3. 4.]\n"
     ]
    }
   ],
   "source": [
    "import numpy as np\n",
    "a = [1, 2, 3, 4]\n",
    "print(\"Original array\")\n",
    "print(a)\n",
    "x = np.asfarray(a)\n",
    "print(\"Array converted to a float type:\")\n",
    "print(x)"
   ]
  },
  {
   "cell_type": "code",
   "execution_count": null,
   "id": "bae19001-d69d-4679-90b0-8b40a17f6a19",
   "metadata": {},
   "outputs": [],
   "source": [
    "''Write a NumPy program to create a 2d array with 1 on the border and 0 inside. "
   ]
  },
  {
   "cell_type": "code",
   "execution_count": 9,
   "id": "0e17653b-ced8-44fb-a2c9-db742bb800b4",
   "metadata": {},
   "outputs": [
    {
     "name": "stdout",
     "output_type": "stream",
     "text": [
      "Original array:\n",
      "[[1. 1. 1. 1. 1.]\n",
      " [1. 1. 1. 1. 1.]\n",
      " [1. 1. 1. 1. 1.]\n",
      " [1. 1. 1. 1. 1.]\n",
      " [1. 1. 1. 1. 1.]]\n",
      "1 on the border and 0 inside in the array\n",
      "[[1. 1. 1. 1. 1.]\n",
      " [1. 0. 0. 0. 1.]\n",
      " [1. 0. 0. 0. 1.]\n",
      " [1. 0. 0. 0. 1.]\n",
      " [1. 1. 1. 1. 1.]]\n"
     ]
    }
   ],
   "source": [
    "import numpy as np\n",
    "x = np.ones((5,5))\n",
    "print(\"Original array:\")\n",
    "print(x)\n",
    "print(\"1 on the border and 0 inside in the array\")\n",
    "x[1:-1,1:-1] = 0\n",
    "print(x)"
   ]
  },
  {
   "cell_type": "code",
   "execution_count": null,
   "id": "75fa35a1-a924-45a5-b5c1-77513e5229e9",
   "metadata": {},
   "outputs": [],
   "source": [
    "''Write a NumPy program to add a border (filled with 0's) around an existing array.  "
   ]
  },
  {
   "cell_type": "code",
   "execution_count": 10,
   "id": "f0c6a9f3-16ac-4faa-8390-95c812fa5dcc",
   "metadata": {},
   "outputs": [
    {
     "name": "stdout",
     "output_type": "stream",
     "text": [
      "Original array:\n",
      "[[1. 1. 1.]\n",
      " [1. 1. 1.]\n",
      " [1. 1. 1.]]\n",
      "0 on the border and 1 inside in the array\n",
      "[[0. 0. 0. 0. 0.]\n",
      " [0. 1. 1. 1. 0.]\n",
      " [0. 1. 1. 1. 0.]\n",
      " [0. 1. 1. 1. 0.]\n",
      " [0. 0. 0. 0. 0.]]\n"
     ]
    }
   ],
   "source": [
    "import numpy as np\n",
    "x = np.ones((3,3))\n",
    "print(\"Original array:\")\n",
    "print(x)\n",
    "print(\"0 on the border and 1 inside in the array\")\n",
    "x = np.pad(x, pad_width=1, mode='constant', constant_values=0)\n",
    "print(x)"
   ]
  },
  {
   "cell_type": "code",
   "execution_count": null,
   "id": "f6f784f5-b3e9-4fa7-82bd-2f9131e58f93",
   "metadata": {},
   "outputs": [],
   "source": [
    "''Write a NumPy program to create a 8x8 matrix and fill it with a checkerboard pattern.  "
   ]
  },
  {
   "cell_type": "code",
   "execution_count": 11,
   "id": "68586c0e-354b-403e-a053-86c21c1892fe",
   "metadata": {},
   "outputs": [
    {
     "name": "stdout",
     "output_type": "stream",
     "text": [
      "Checkerboard pattern:\n",
      "[[0 1 0 1 0 1 0 1]\n",
      " [1 0 1 0 1 0 1 0]\n",
      " [0 1 0 1 0 1 0 1]\n",
      " [1 0 1 0 1 0 1 0]\n",
      " [0 1 0 1 0 1 0 1]\n",
      " [1 0 1 0 1 0 1 0]\n",
      " [0 1 0 1 0 1 0 1]\n",
      " [1 0 1 0 1 0 1 0]]\n"
     ]
    }
   ],
   "source": [
    "import numpy as np\n",
    "x = np.ones((3,3))\n",
    "print(\"Checkerboard pattern:\")\n",
    "x = np.zeros((8,8),dtype=int)\n",
    "x[1::2,::2] = 1\n",
    "x[::2,1::2] = 1\n",
    "print(x)"
   ]
  },
  {
   "cell_type": "code",
   "execution_count": null,
   "id": "6d571dce-700a-45d8-aab0-133d966442ff",
   "metadata": {},
   "outputs": [],
   "source": [
    "''Write a NumPy program to convert a list and tuple into arrays. "
   ]
  },
  {
   "cell_type": "code",
   "execution_count": 12,
   "id": "6acb68ad-ebad-44fe-9e47-7d82c1e5cb04",
   "metadata": {},
   "outputs": [
    {
     "name": "stdout",
     "output_type": "stream",
     "text": [
      "List to array: \n",
      "[1 2 3 4 5 6 7 8]\n",
      "Tuple to array: \n",
      "[[8 4 6]\n",
      " [1 2 3]]\n"
     ]
    }
   ],
   "source": [
    "import numpy as np\n",
    "my_list = [1, 2, 3, 4, 5, 6, 7, 8]\n",
    "print(\"List to array: \")\n",
    "print(np.asarray(my_list))\n",
    "my_tuple = ([8, 4, 6], [1, 2, 3])\n",
    "print(\"Tuple to array: \")\n",
    "print(np.asarray(my_tuple))"
   ]
  },
  {
   "cell_type": "code",
   "execution_count": null,
   "id": "f612ef02-d828-4d32-a136-e1f39156cb8c",
   "metadata": {},
   "outputs": [],
   "source": [
    "''Write a NumPy program to append values to the end of an array"
   ]
  },
  {
   "cell_type": "code",
   "execution_count": 13,
   "id": "f0547fde-833f-49da-8867-4524e9a5bfb7",
   "metadata": {},
   "outputs": [
    {
     "name": "stdout",
     "output_type": "stream",
     "text": [
      "Original array:\n",
      "[10, 20, 30]\n",
      "After append values to the end of the array:\n",
      "[10 20 30 40 50 60 70 80 90]\n"
     ]
    }
   ],
   "source": [
    "import numpy as np\n",
    "x = [10, 20, 30]\n",
    "print(\"Original array:\")\n",
    "print(x)\n",
    "x = np.append(x, [[40, 50, 60], [70, 80, 90]])\n",
    "print(\"After append values to the end of the array:\")\n",
    "print(x)"
   ]
  },
  {
   "cell_type": "code",
   "execution_count": null,
   "id": "78d6a5a9-2c43-4b87-b621-56cf8009704b",
   "metadata": {},
   "outputs": [],
   "source": [
    "''Write a NumPy program to create an empty and a full array. "
   ]
  },
  {
   "cell_type": "code",
   "execution_count": 14,
   "id": "a061aec6-5f75-40c5-b655-317a1a45c33b",
   "metadata": {},
   "outputs": [
    {
     "name": "stdout",
     "output_type": "stream",
     "text": [
      "[[6 6 6]\n",
      " [6 6 6]\n",
      " [6 6 6]]\n"
     ]
    }
   ],
   "source": [
    "import numpy as np\n",
    "x = np.empty((3,4))\n",
    "y = np.full((3,3),6)\n",
    "print(y)"
   ]
  },
  {
   "cell_type": "code",
   "execution_count": null,
   "id": "fe5e9f83-6f6b-4596-9914-5c4a2a2c006a",
   "metadata": {},
   "outputs": [],
   "source": [
    "''Write a NumPy program to convert the values of Centigrade degrees into Fahrenheit degrees. Centigrade values are stored into a NumPy array. "
   ]
  },
  {
   "cell_type": "code",
   "execution_count": 15,
   "id": "2912055e-fefa-40fb-8e5b-8c4c5164d15a",
   "metadata": {},
   "outputs": [
    {
     "name": "stdout",
     "output_type": "stream",
     "text": [
      "Values in Fahrenheit degrees:\n",
      "[ 0.   12.   45.21 34.   99.91]\n",
      "Values in  Centigrade degrees:\n",
      "[-17.77777778 -11.11111111   7.33888889   1.11111111  37.72777778]\n"
     ]
    }
   ],
   "source": [
    "import numpy as np\n",
    "fvalues = [0, 12, 45.21, 34, 99.91]\n",
    "F = np.array(fvalues)\n",
    "print(\"Values in Fahrenheit degrees:\")\n",
    "print(F)\n",
    "print(\"Values in  Centigrade degrees:\") \n",
    "print(5*F/9 - 5*32/9)"
   ]
  },
  {
   "cell_type": "code",
   "execution_count": null,
   "id": "d135a6ab-ded3-4589-87d9-61964088003d",
   "metadata": {},
   "outputs": [],
   "source": [
    "''Write a NumPy program to find the real and imaginary parts of an array of complex numbers."
   ]
  },
  {
   "cell_type": "code",
   "execution_count": 16,
   "id": "e4f154c2-8ae7-49cb-8a71-a12d395a6308",
   "metadata": {},
   "outputs": [
    {
     "name": "stdout",
     "output_type": "stream",
     "text": [
      "Original array:x  [1.+0.j]\n",
      "Original array:y  [0.70710678+0.70710678j]\n",
      "Real part of the array:\n",
      "[1.]\n",
      "[0.70710678]\n",
      "Imaginary part of the array:\n",
      "[0.]\n",
      "[0.70710678]\n"
     ]
    }
   ],
   "source": [
    "x = np.sqrt([1+0j])\n",
    "y = np.sqrt([0+1j])\n",
    "print(\"Original array:x \",x)\n",
    "print(\"Original array:y \",y)\n",
    "print(\"Real part of the array:\")\n",
    "print(x.real)\n",
    "print(y.real)\n",
    "print(\"Imaginary part of the array:\")\n",
    "print(x.imag)\n",
    "print(y.imag)"
   ]
  },
  {
   "cell_type": "code",
   "execution_count": null,
   "id": "1a0e8d48-ab51-4f4d-97a7-489a9c39f207",
   "metadata": {},
   "outputs": [],
   "source": []
  },
  {
   "cell_type": "code",
   "execution_count": null,
   "id": "98d4268f-2607-4045-bb5d-b8d5a180d349",
   "metadata": {},
   "outputs": [],
   "source": []
  },
  {
   "cell_type": "code",
   "execution_count": null,
   "id": "6eeea6d2-2b57-443d-bbdc-2ce2f5078f72",
   "metadata": {},
   "outputs": [],
   "source": []
  },
  {
   "cell_type": "code",
   "execution_count": null,
   "id": "5cdae692-20dd-4527-b2da-ff7829514ec4",
   "metadata": {},
   "outputs": [],
   "source": []
  },
  {
   "cell_type": "code",
   "execution_count": null,
   "id": "b6061b05-226b-42e7-8555-e46bc0e9eaa6",
   "metadata": {},
   "outputs": [],
   "source": []
  },
  {
   "cell_type": "code",
   "execution_count": null,
   "id": "649f7b04-b191-4edb-9c99-d11a61f12225",
   "metadata": {},
   "outputs": [],
   "source": []
  }
 ],
 "metadata": {
  "kernelspec": {
   "display_name": "Python 3 (ipykernel)",
   "language": "python",
   "name": "python3"
  },
  "language_info": {
   "codemirror_mode": {
    "name": "ipython",
    "version": 3
   },
   "file_extension": ".py",
   "mimetype": "text/x-python",
   "name": "python",
   "nbconvert_exporter": "python",
   "pygments_lexer": "ipython3",
   "version": "3.12.4"
  }
 },
 "nbformat": 4,
 "nbformat_minor": 5
}
