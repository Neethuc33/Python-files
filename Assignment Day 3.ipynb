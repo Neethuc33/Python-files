{
 "cells": [
  {
   "cell_type": "code",
   "execution_count": null,
   "id": "5f15a3fa-ae48-4a02-8ea9-fd53848f9d76",
   "metadata": {},
   "outputs": [],
   "source": [
    "''\tWrite a Python program to sum all the items in a list."
   ]
  },
  {
   "cell_type": "code",
   "execution_count": 12,
   "id": "af764aa6-07bf-4cbf-8eb3-fb85d7015cef",
   "metadata": {},
   "outputs": [
    {
     "name": "stdout",
     "output_type": "stream",
     "text": [
      "3\n"
     ]
    }
   ],
   "source": [
    "def sum_list(items):\n",
    "    sum_numbers=0\n",
    "    for x in items: \n",
    "        sum_numbers += x\n",
    "    return sum_numbers\n",
    "print (sum_list([1,2]))\n"
   ]
  },
  {
   "cell_type": "code",
   "execution_count": 10,
   "id": "f3ce0fe6-baee-4af2-9cfa-1c3692c30943",
   "metadata": {},
   "outputs": [
    {
     "name": "stdout",
     "output_type": "stream",
     "text": [
      "-5\n"
     ]
    }
   ],
   "source": [
    "\n",
    "def sum_list(items):\n",
    "    sum_numbers = 0\n",
    "    for x in items:\n",
    "        sum_numbers += x\n",
    "    return sum_numbers\n",
    "\n",
    "\n",
    "print(sum_list([1,2,-8]))\n"
   ]
  },
  {
   "cell_type": "code",
   "execution_count": null,
   "id": "8f9749f6-fab7-4d7c-81ae-51e4a0cb9569",
   "metadata": {},
   "outputs": [],
   "source": [
    "''Write a Python program to multiplies all the items in a list"
   ]
  },
  {
   "cell_type": "code",
   "execution_count": 15,
   "id": "61858137-3551-4a03-b38d-d7a4af52071f",
   "metadata": {},
   "outputs": [
    {
     "name": "stdout",
     "output_type": "stream",
     "text": [
      "6\n"
     ]
    }
   ],
   "source": [
    "def multi_list(items):\n",
    "    multi_numbers = 1\n",
    "    for x in items:\n",
    "        multi_numbers *= x\n",
    "    return multi_numbers\n",
    "print (multi_list([1,6]))"
   ]
  },
  {
   "cell_type": "code",
   "execution_count": 14,
   "id": "64e05498-841b-4435-8e4d-237a89cb00fe",
   "metadata": {},
   "outputs": [
    {
     "name": "stdout",
     "output_type": "stream",
     "text": [
      "-16\n"
     ]
    }
   ],
   "source": [
    "def multiply_list(items):\n",
    "    tot = 1\n",
    "    for x in items:\n",
    "        tot *= x\n",
    "    return tot\n",
    "\n",
    "\n",
    "\n",
    "print(multiply_list([1,2,-8]))\n"
   ]
  },
  {
   "cell_type": "code",
   "execution_count": null,
   "id": "8d4c4dd0-3f6c-457d-b15e-b52dec313da3",
   "metadata": {},
   "outputs": [],
   "source": [
    "''Write a Python program to get the largest number from a list. "
   ]
  },
  {
   "cell_type": "code",
   "execution_count": 22,
   "id": "100e712f-df5a-4d5d-af95-1f8ee1653efe",
   "metadata": {},
   "outputs": [
    {
     "name": "stdout",
     "output_type": "stream",
     "text": [
      "5\n"
     ]
    }
   ],
   "source": [
    "def max_num_list(list):\n",
    "    max = list [0]\n",
    "    for a in list:\n",
    "            if a > max:\n",
    "                max=a\n",
    "    return max\n",
    "print (max_num_list([1,2,3,5,4]))\n",
    "        "
   ]
  },
  {
   "cell_type": "code",
   "execution_count": 19,
   "id": "21d1ea3b-2879-4b49-945d-057ef651e93a",
   "metadata": {},
   "outputs": [
    {
     "name": "stdout",
     "output_type": "stream",
     "text": [
      "2\n"
     ]
    }
   ],
   "source": [
    "def max_num_in_list( list ):\n",
    "    max = list[ 0 ]\n",
    "    for a in list:\n",
    "        if a > max:\n",
    "            max = a\n",
    "    return max\n",
    "\n",
    "\n",
    "\n",
    "print(max_num_in_list([1, 2, -8, 0]))\n"
   ]
  },
  {
   "cell_type": "code",
   "execution_count": null,
   "id": "fb1063a0-4330-4db2-ad3c-7dd7fe0e057d",
   "metadata": {},
   "outputs": [],
   "source": [
    "''Write a Python program to get the smallest number from a list."
   ]
  },
  {
   "cell_type": "code",
   "execution_count": 23,
   "id": "bbdbcecc-3622-4463-b05e-ac1fa24dfbd0",
   "metadata": {},
   "outputs": [
    {
     "name": "stdout",
     "output_type": "stream",
     "text": [
      "1\n"
     ]
    }
   ],
   "source": [
    "def min_num_list(list):\n",
    "    min= list[0]\n",
    "    for a in list:\n",
    "        if a < min:\n",
    "            min = a\n",
    "    return min\n",
    " print (min_num_list([1,4,5,7,]))"
   ]
  },
  {
   "cell_type": "code",
   "execution_count": null,
   "id": "82794ed3-06be-4447-a6fa-268576165e39",
   "metadata": {},
   "outputs": [],
   "source": [
    "'5.\tWrite a Python program to count the number of strings where the string length is 2 or more and the first and last character are same from a given list of strings.  \n",
    "Sample List : ['abc', 'xyz', 'aba', '1221']\n",
    "Expected Result : 2\n"
   ]
  },
  {
   "cell_type": "code",
   "execution_count": 29,
   "id": "7ab5ad7c-22cb-4a39-8ffc-378d620c3cae",
   "metadata": {},
   "outputs": [
    {
     "name": "stdout",
     "output_type": "stream",
     "text": [
      "2\n"
     ]
    }
   ],
   "source": [
    "def match_words(words):\n",
    "  ctr = 0\n",
    "\n",
    "  for word in words:\n",
    "    if len(word) > 1 and word[0] == word[-1]:\n",
    "      ctr += 1\n",
    "  return ctr\n",
    "\n",
    "print(match_words(['abc', 'xyz', 'aba', '1221']))\n"
   ]
  },
  {
   "cell_type": "code",
   "execution_count": null,
   "id": "9b5d807a-e629-4abc-903a-fbc6a4700da6",
   "metadata": {},
   "outputs": [],
   "source": [
    "''Write a Python program to get a list, sorted in increasing order by the last element in each tuple from a given list of non-empty tuples.  \n",
    "Sample List : [(2, 5), (1, 2), (4, 4), (2, 3), (2, 1)]\n",
    "Expected Result : [(2, 1), (1, 2), (2, 3), (4, 4), (2, 5)]\n"
   ]
  },
  {
   "cell_type": "code",
   "execution_count": 30,
   "id": "5d270a6f-bd01-4cc4-ba54-5d07626b61cf",
   "metadata": {},
   "outputs": [
    {
     "name": "stdout",
     "output_type": "stream",
     "text": [
      "Sorted List returned :\n",
      "[1, 2, 3, 4, 6, 7, 8]\n"
     ]
    }
   ],
   "source": [
    "x = [2, 8, 1, 4, 6, 3, 7] \n",
    "  \n",
    "print (\"Sorted List returned :\"), \n",
    "print (sorted(x)) \n"
   ]
  },
  {
   "cell_type": "code",
   "execution_count": 31,
   "id": "62c0bdb2-8988-4ddc-ae09-29714c28e4eb",
   "metadata": {},
   "outputs": [
    {
     "name": "stdout",
     "output_type": "stream",
     "text": [
      "\n",
      "Reverse sort :\n",
      "[8, 7, 6, 4, 3, 2, 1]\n"
     ]
    }
   ],
   "source": [
    "print (\"\\nReverse sort :\"), \n",
    "print (sorted(x, reverse = True))\n"
   ]
  },
  {
   "cell_type": "code",
   "execution_count": 32,
   "id": "4931eea6-1189-4bf3-b21e-13a84c810f0f",
   "metadata": {},
   "outputs": [
    {
     "name": "stdout",
     "output_type": "stream",
     "text": [
      "['e', 'q', 'r', 't', 'w', 'y']\n"
     ]
    }
   ],
   "source": [
    "x = {'q':1, 'w':2, 'e':3, 'r':4, 't':5, 'y':6}\n",
    "print (sorted(x))"
   ]
  },
  {
   "cell_type": "code",
   "execution_count": 33,
   "id": "3c5e0bab-f110-4b4a-8143-520f5ba3795b",
   "metadata": {},
   "outputs": [
    {
     "name": "stdout",
     "output_type": "stream",
     "text": [
      "[(2, 1), (1, 2), (2, 3), (4, 4), (2, 5)]\n"
     ]
    }
   ],
   "source": [
    "def last(n): return n[-1]\n",
    "\n",
    "def sort_list_last(tuples):\n",
    "  return sorted(tuples, key=last)\n",
    "\n",
    "print(sort_list_last([(2, 5), (1, 2), (4, 4), (2, 3), (2, 1)]))\n"
   ]
  },
  {
   "cell_type": "code",
   "execution_count": null,
   "id": "09bfdbd1-b9a8-4a31-9085-5dd0544b97ae",
   "metadata": {},
   "outputs": [],
   "source": [
    "''Write a Python program to remove duplicates from a list."
   ]
  },
  {
   "cell_type": "code",
   "execution_count": 34,
   "id": "a1e1cfde-bf5d-408e-a889-2956f7364da4",
   "metadata": {},
   "outputs": [
    {
     "name": "stdout",
     "output_type": "stream",
     "text": [
      "{40, 10, 80, 50, 20, 60, 30}\n"
     ]
    }
   ],
   "source": [
    "a = [10,20,30,20,10,50,60,40,80,50,40]\n",
    "\n",
    "dup_items = set()\n",
    "uniq_items = []\n",
    "for x in a:\n",
    "    if x not in dup_items:\n",
    "        uniq_items.append(x)\n",
    "        dup_items.add(x)\n",
    "\n",
    "print(dup_items)\n"
   ]
  },
  {
   "cell_type": "code",
   "execution_count": null,
   "id": "d29f031d-548e-4028-ba3f-b6c790fc05e7",
   "metadata": {},
   "outputs": [],
   "source": [
    "''\tWrite a Python program to check a list is empty or not."
   ]
  },
  {
   "cell_type": "code",
   "execution_count": 35,
   "id": "45384b7d-ca39-4a60-b7e7-dedc2de85088",
   "metadata": {},
   "outputs": [
    {
     "name": "stdout",
     "output_type": "stream",
     "text": [
      "List is empty\n"
     ]
    }
   ],
   "source": [
    "l = []\n",
    "if not l:\n",
    "  print(\"List is empty\")\n"
   ]
  },
  {
   "cell_type": "code",
   "execution_count": 37,
   "id": "a4af0832-2b53-41c8-bf70-5ba1957064f7",
   "metadata": {},
   "outputs": [
    {
     "name": "stdout",
     "output_type": "stream",
     "text": [
      "List is not empty\n"
     ]
    }
   ],
   "source": [
    "l = [1,2]\n",
    "if not l:\n",
    "  print(\"List is empty\")\n",
    "  elseif\n",
    "print(\"List is not empty\")"
   ]
  },
  {
   "cell_type": "code",
   "execution_count": null,
   "id": "2ee2de00-2284-454d-a12e-78367cc39dad",
   "metadata": {},
   "outputs": [],
   "source": [
    "''\tWrite a Python program to clone or copy a list."
   ]
  },
  {
   "cell_type": "code",
   "execution_count": 38,
   "id": "72de71ae-b581-4bad-a3c4-af5551445e6d",
   "metadata": {},
   "outputs": [
    {
     "name": "stdout",
     "output_type": "stream",
     "text": [
      "[10, 22, 44, 23, 4]\n",
      "[10, 22, 44, 23, 4]\n"
     ]
    }
   ],
   "source": [
    "original_list = [10, 22, 44, 23, 4]\n",
    "new_list = list(original_list)\n",
    "print(original_list)\n",
    "print(new_list)\n"
   ]
  },
  {
   "cell_type": "code",
   "execution_count": 39,
   "id": "039df039-ce61-46c4-b6d2-168509ad405c",
   "metadata": {},
   "outputs": [
    {
     "name": "stdout",
     "output_type": "stream",
     "text": [
      "[10, 22, 44, 23, 4]\n",
      "[10, 22, 44, 23, 4]\n"
     ]
    }
   ],
   "source": [
    "original_list = [10, 22, 44, 23, 4]\n",
    "new_list = original_list.copy()\n",
    "print(original_list)\n",
    "print(new_list)\n"
   ]
  },
  {
   "cell_type": "code",
   "execution_count": null,
   "id": "624041c5-cb9d-45fd-94cd-b9c72832bc6e",
   "metadata": {},
   "outputs": [],
   "source": [
    "''Write a Python program to find the list of words that are longer than n from a given list of words."
   ]
  },
  {
   "cell_type": "code",
   "execution_count": 40,
   "id": "e7a74c0b-2b5d-47ef-b2db-4b8bb5c22a0c",
   "metadata": {},
   "outputs": [
    {
     "name": "stdout",
     "output_type": "stream",
     "text": [
      "['quick', 'brown', 'jumps', 'over', 'lazy']\n"
     ]
    }
   ],
   "source": [
    "def long_words(n, str):\n",
    "    word_len = []\n",
    "    txt = str.split(\" \")\n",
    "    for x in txt:\n",
    "        if len(x) > n:\n",
    "            word_len.append(x)\n",
    "    return word_len\t\n",
    "\n",
    "\n",
    "\n",
    "print(long_words(3, \"The quick brown fox jumps over the lazy dog\"))\n"
   ]
  },
  {
   "cell_type": "code",
   "execution_count": null,
   "id": "8d4aaf5f-72f0-4314-abd8-d30ab18fe864",
   "metadata": {},
   "outputs": [],
   "source": [
    "''\tWrite a Python function that takes two lists and returns True if they have at least one common member."
   ]
  },
  {
   "cell_type": "code",
   "execution_count": 41,
   "id": "1c922f4a-0acf-4465-a916-b79aa116d8b3",
   "metadata": {},
   "outputs": [
    {
     "name": "stdout",
     "output_type": "stream",
     "text": [
      "True\n",
      "None\n"
     ]
    }
   ],
   "source": [
    "def common_data(list1, list2):\n",
    "     result = False\n",
    "     for x in list1:\n",
    "         for y in list2:\n",
    "             if x == y:\n",
    "                 result = True\n",
    "                 return result\n",
    "\n",
    "\n",
    "print(common_data([1,2,3,4,5], [5,6,7,8,9]))\n",
    "\n",
    "print(common_data([1,2,3,4,5], [6,7,8,9]))\n"
   ]
  },
  {
   "cell_type": "code",
   "execution_count": null,
   "id": "b4236849-8673-403e-88d3-5f2f60b19872",
   "metadata": {},
   "outputs": [],
   "source": [
    "''Write a Python program to print a specified list after removing the 0th, 4th and 5th elements.  \n",
    "Sample List : ['Red', 'Green', 'White', 'Black', 'Pink', 'Yellow']\n",
    "Expected Output : ['Green', 'White', 'Black']\n"
   ]
  },
  {
   "cell_type": "code",
   "execution_count": 42,
   "id": "fa9aa846-5d12-4d33-89cc-adbc7b702b54",
   "metadata": {},
   "outputs": [
    {
     "name": "stdout",
     "output_type": "stream",
     "text": [
      "['Green', 'White', 'Black']\n"
     ]
    }
   ],
   "source": [
    "color = ['Red', 'Green', 'White', 'Black', 'Pink', 'Yellow']\n",
    "color = [x for (i,x) in enumerate(color) if i not in (0,4,5)]\n",
    "print(color)\n"
   ]
  },
  {
   "cell_type": "code",
   "execution_count": null,
   "id": "65c9b430-a2e8-47cf-b43e-420cd9a57feb",
   "metadata": {},
   "outputs": [],
   "source": []
  },
  {
   "cell_type": "code",
   "execution_count": null,
   "id": "07e200bd-0779-4dd1-924a-2280a86a1660",
   "metadata": {},
   "outputs": [],
   "source": []
  },
  {
   "cell_type": "code",
   "execution_count": null,
   "id": "99ce30e1-ba95-40bc-9853-709e66576023",
   "metadata": {},
   "outputs": [],
   "source": []
  },
  {
   "cell_type": "code",
   "execution_count": null,
   "id": "06edf994-737b-4e65-8a67-8d7d861e9b44",
   "metadata": {},
   "outputs": [],
   "source": []
  },
  {
   "cell_type": "code",
   "execution_count": null,
   "id": "95b09846-7952-495a-a9fb-5e5fc91c63be",
   "metadata": {},
   "outputs": [],
   "source": []
  },
  {
   "cell_type": "code",
   "execution_count": null,
   "id": "a7839067-a732-44b7-b009-3cdea35192af",
   "metadata": {},
   "outputs": [],
   "source": []
  },
  {
   "cell_type": "code",
   "execution_count": null,
   "id": "bc380e77-6e96-484c-8f29-c474108f47a4",
   "metadata": {},
   "outputs": [],
   "source": []
  }
 ],
 "metadata": {
  "kernelspec": {
   "display_name": "Python 3 (ipykernel)",
   "language": "python",
   "name": "python3"
  },
  "language_info": {
   "codemirror_mode": {
    "name": "ipython",
    "version": 3
   },
   "file_extension": ".py",
   "mimetype": "text/x-python",
   "name": "python",
   "nbconvert_exporter": "python",
   "pygments_lexer": "ipython3",
   "version": "3.12.4"
  }
 },
 "nbformat": 4,
 "nbformat_minor": 5
}
