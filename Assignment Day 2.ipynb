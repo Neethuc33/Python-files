{
 "cells": [
  {
   "cell_type": "code",
   "execution_count": null,
   "id": "a16f0a40-2768-4343-be97-c4a5c7adcd9b",
   "metadata": {},
   "outputs": [],
   "source": [
    "''1. Write a Python program to count the number 4 in a given list.  \n"
   ]
  },
  {
   "cell_type": "code",
   "execution_count": 12,
   "id": "2a396cd5-f483-4072-b2be-57fb6ebf31d1",
   "metadata": {},
   "outputs": [
    {
     "name": "stdout",
     "output_type": "stream",
     "text": [
      "3\n"
     ]
    }
   ],
   "source": [
    "def list_count(nums):\n",
    "    count=0\n",
    "    for num in nums:\n",
    "        if num == 4:\n",
    "            count = count+1\n",
    "    return count\n",
    "    \n",
    "print(list_count([1,4,6,7,10,4,5,4]))\n",
    "        "
   ]
  },
  {
   "cell_type": "code",
   "execution_count": 9,
   "id": "e595cee1-fd76-4782-9120-d250c2bc5e66",
   "metadata": {},
   "outputs": [
    {
     "name": "stdout",
     "output_type": "stream",
     "text": [
      "2\n",
      "3\n"
     ]
    }
   ],
   "source": [
    "def list_count_4(nums):\n",
    "  count = 0  \n",
    "  for num in nums:\n",
    "    if num == 4:\n",
    "      count = count + 1\n",
    "\n",
    "  return count\n",
    "\n",
    "\n",
    "print(list_count_4([1, 4, 6, 7, 4]))\n",
    "print(list_count_4([1, 4, 6, 4, 7, 4]))"
   ]
  },
  {
   "cell_type": "code",
   "execution_count": null,
   "id": "b7dc4219-5ac5-4d3f-9d53-e6f28e6950f9",
   "metadata": {},
   "outputs": [],
   "source": [
    "'''2. Write a Python program to test whether a passed letter is a vowel or not.  "
   ]
  },
  {
   "cell_type": "code",
   "execution_count": 18,
   "id": "8e7ce991-1e97-4002-a74f-2dcafab3f00a",
   "metadata": {},
   "outputs": [
    {
     "name": "stdout",
     "output_type": "stream",
     "text": [
      "False\n"
     ]
    }
   ],
   "source": [
    "def is_vowel(char):\n",
    "    all_vowels='aeiou'\n",
    "    return char in all_vowels\n",
    "print(is_vowel('c'))"
   ]
  },
  {
   "cell_type": "code",
   "execution_count": 19,
   "id": "b04692e0-1794-49db-94ce-9a6d483a6956",
   "metadata": {},
   "outputs": [
    {
     "name": "stdout",
     "output_type": "stream",
     "text": [
      "True\n"
     ]
    }
   ],
   "source": [
    "def is_vowel(char):\n",
    "    all_vowels='aeiou'\n",
    "    return char in all_vowels\n",
    "print(is_vowel('e'))"
   ]
  },
  {
   "cell_type": "code",
   "execution_count": 20,
   "id": "63f21fb7-4df8-4ef2-9a68-aabe669b82a9",
   "metadata": {},
   "outputs": [
    {
     "name": "stdout",
     "output_type": "stream",
     "text": [
      "False\n",
      "True\n"
     ]
    }
   ],
   "source": [
    "def is_vowel(char):\n",
    "    all_vowels='aeiou'\n",
    "    return char in all_vowels\n",
    "print(is_vowel('c'))\n",
    "print(is_vowel('e'))"
   ]
  },
  {
   "cell_type": "code",
   "execution_count": null,
   "id": "705054b5-7b56-4377-8f37-e0d270f90bda",
   "metadata": {},
   "outputs": [],
   "source": [
    "'''3. Write a Python program to check whether a specified value is contained in a group of values.  \n",
    "Test Data :\n",
    "3 -> [1, 5, 8, 3] : True\n",
    "-1 -> [1, 5, 8, 3] : False\n"
   ]
  },
  {
   "cell_type": "code",
   "execution_count": 28,
   "id": "934b1ddb-339a-4882-b789-b65dd86a6e04",
   "metadata": {},
   "outputs": [
    {
     "name": "stdout",
     "output_type": "stream",
     "text": [
      "True\n"
     ]
    }
   ],
   "source": [
    "def num(group_data,n):\n",
    "    for value in group_data:\n",
    "        if n == value:\n",
    "            return True\n",
    "    return False\n",
    "print(num([1, 5, 8, 3], 3))"
   ]
  },
  {
   "cell_type": "code",
   "execution_count": 30,
   "id": "d58dd372-6407-4c6f-b65e-8e00b448b6e9",
   "metadata": {},
   "outputs": [
    {
     "name": "stdout",
     "output_type": "stream",
     "text": [
      "False\n"
     ]
    }
   ],
   "source": [
    "def x(group_data,n):\n",
    "    for value in group_data:\n",
    "        if n == value:\n",
    "            return True\n",
    "    return False\n",
    "print(x([1,2,3,4,5,6],0))"
   ]
  },
  {
   "cell_type": "code",
   "execution_count": 31,
   "id": "f90e9b66-77f7-4ce5-a82c-1adeb4699de7",
   "metadata": {},
   "outputs": [
    {
     "name": "stdout",
     "output_type": "stream",
     "text": [
      "True\n"
     ]
    }
   ],
   "source": [
    "def x(group_data,n):\n",
    "    for value in group_data:\n",
    "        if n == value:\n",
    "            return True\n",
    "    return False\n",
    "print(x([1,2,3,4,5,6],6))"
   ]
  },
  {
   "cell_type": "code",
   "execution_count": null,
   "id": "edf05eb7-7003-43dc-8c14-b284f933c5db",
   "metadata": {},
   "outputs": [],
   "source": [
    "''''4. Write a Python program to create a histogram from a given list of integers. "
   ]
  },
  {
   "cell_type": "code",
   "execution_count": 33,
   "id": "069719cf-3fa2-4337-910e-89f974e46f13",
   "metadata": {},
   "outputs": [
    {
     "name": "stdout",
     "output_type": "stream",
     "text": [
      "&&\n",
      "&&&\n",
      "&&&&&&\n",
      "&&&&&\n"
     ]
    }
   ],
   "source": [
    "def histogram( items ):\n",
    "    for n in items:\n",
    "        output = ''\n",
    "        times = n\n",
    "        while( times > 0 ):\n",
    "          output += '&'\n",
    "          times = times - 1\n",
    "        print(output)\n",
    "\n",
    "histogram([2, 3, 6, 5]) "
   ]
  },
  {
   "cell_type": "code",
   "execution_count": 36,
   "id": "b12c9782-7b48-4126-9942-7e34a3c5b202",
   "metadata": {},
   "outputs": [
    {
     "name": "stdout",
     "output_type": "stream",
     "text": [
      "AA\n",
      "AAA\n",
      "AAAA\n",
      "AAAAA\n",
      "AAAAAA\n"
     ]
    }
   ],
   "source": [
    "def histogram(items):\n",
    "    for n in items:\n",
    "        output = ''\n",
    "        times = n\n",
    "        while(times>0):\n",
    "            output = output+ 'A'\n",
    "            times = times - 1\n",
    "        print(output)\n",
    "histogram([2,3,4,5,6])"
   ]
  },
  {
   "cell_type": "code",
   "execution_count": null,
   "id": "e4cf0fd4-71ae-4c34-9ffb-7d0cf77042d8",
   "metadata": {},
   "outputs": [],
   "source": [
    "''''5.Write a Python program to concatenate all elements in a list into a string and return it. "
   ]
  },
  {
   "cell_type": "code",
   "execution_count": 40,
   "id": "1202fb48-1bec-4005-aff1-1bd364790d8c",
   "metadata": {},
   "outputs": [
    {
     "name": "stdout",
     "output_type": "stream",
     "text": [
      "12345\n"
     ]
    }
   ],
   "source": [
    "def concate_items(list):\n",
    "    result=''\n",
    "    for elements in list:\n",
    "        result= result + str(elements)\n",
    "    return result\n",
    "print(concate_items([1,2,3,4,5]))"
   ]
  },
  {
   "cell_type": "code",
   "execution_count": 39,
   "id": "6b3f9812-8e5d-49a3-8a05-5ba4b26378fd",
   "metadata": {},
   "outputs": [
    {
     "name": "stdout",
     "output_type": "stream",
     "text": [
      "15122\n"
     ]
    }
   ],
   "source": [
    "def concatenate_list_data(list):\n",
    "    result= ''\n",
    "    for element in list:\n",
    "        result += str(element)\n",
    "    return result\n",
    "\n",
    "print(concatenate_list_data([1, 5, 12, 2]))"
   ]
  },
  {
   "cell_type": "code",
   "execution_count": null,
   "id": "43b628a1-cc47-48b2-a73e-6eaeff93332b",
   "metadata": {},
   "outputs": [],
   "source": [
    "'''6 Write a Python program that will accept the base and height of a triangle and compute the area. "
   ]
  },
  {
   "cell_type": "code",
   "execution_count": 48,
   "id": "4ab05ac6-fad2-48ee-a594-60b630284e93",
   "metadata": {},
   "outputs": [
    {
     "name": "stdin",
     "output_type": "stream",
     "text": [
      "Enter the base : 5\n",
      "Enter the height : 5\n"
     ]
    },
    {
     "name": "stdout",
     "output_type": "stream",
     "text": [
      "area is : 12.5\n"
     ]
    }
   ],
   "source": [
    "base=int(input(\"Enter the base :\"))\n",
    "height=int(input(\"Enter the height :\"))\n",
    "area= base*height/2\n",
    "print(\"area is :\", area)"
   ]
  },
  {
   "cell_type": "code",
   "execution_count": null,
   "id": "e592079d-f3fa-46e5-8257-8e42d9bd5a0c",
   "metadata": {},
   "outputs": [],
   "source": [
    "''''7. Write a Python program to sum of three given integers. However, if two values are equal sum will be zero. "
   ]
  },
  {
   "cell_type": "code",
   "execution_count": 58,
   "id": "9c6745dd-2fff-43b9-a3f0-b87512b38b59",
   "metadata": {},
   "outputs": [
    {
     "name": "stdout",
     "output_type": "stream",
     "text": [
      "6\n"
     ]
    }
   ],
   "source": [
    "def sum(a,b,c):\n",
    "    if a==b or b==c or c==a:\n",
    "        sum = 0\n",
    "    else: \n",
    "        sum = a+b+c\n",
    "    return sum\n",
    "print(sum(2,1,3))"
   ]
  },
  {
   "cell_type": "code",
   "execution_count": 59,
   "id": "8a3a5244-ea37-43e7-af9e-4c3cdb718f74",
   "metadata": {},
   "outputs": [
    {
     "name": "stdout",
     "output_type": "stream",
     "text": [
      "0\n"
     ]
    }
   ],
   "source": [
    "def sum(a,b,c):\n",
    "    if a==b or b==c or c==a:\n",
    "        sum = 0\n",
    "    else: \n",
    "        sum = a+b+c\n",
    "    return sum\n",
    "print(sum(1,1,1))"
   ]
  },
  {
   "cell_type": "code",
   "execution_count": 60,
   "id": "1aee2961-45c6-4da6-bb6d-c59679ee4d65",
   "metadata": {},
   "outputs": [
    {
     "name": "stdout",
     "output_type": "stream",
     "text": [
      "0\n"
     ]
    }
   ],
   "source": [
    "def sum(a,b,c):\n",
    "    if a==b or b==c or c==a:\n",
    "        sum = 0\n",
    "    else: \n",
    "        sum = a+b+c\n",
    "    return sum\n",
    "print(sum(1,3,1))"
   ]
  },
  {
   "cell_type": "code",
   "execution_count": null,
   "id": "1c87b87c-95d5-42cb-95e7-e63dd65fda5a",
   "metadata": {},
   "outputs": [],
   "source": [
    "''''8. Write a Python program to sum of two given integers. However, if the sum is between 15 to 20 it will return 20.  "
   ]
  },
  {
   "cell_type": "code",
   "execution_count": 66,
   "id": "a16c98d0-6763-4b26-b7eb-1a04ece379e2",
   "metadata": {},
   "outputs": [
    {
     "name": "stdout",
     "output_type": "stream",
     "text": [
      "20\n"
     ]
    }
   ],
   "source": [
    "def sum(a,b):\n",
    "    sum= a+b\n",
    "    if sum in range (15,20):\n",
    "        return 20\n",
    "    else:\n",
    "        return sum\n",
    "print(sum(10,6))"
   ]
  },
  {
   "cell_type": "code",
   "execution_count": 67,
   "id": "7976049d-7e18-4057-9161-7b2966edafca",
   "metadata": {},
   "outputs": [
    {
     "name": "stdout",
     "output_type": "stream",
     "text": [
      "12\n",
      "22\n"
     ]
    }
   ],
   "source": [
    "print(sum(10, 2))\n",
    "print(sum(10, 12))"
   ]
  },
  {
   "cell_type": "code",
   "execution_count": null,
   "id": "c6bc1fd0-d840-4ee4-ac96-d907eb84fa64",
   "metadata": {},
   "outputs": [],
   "source": [
    "''''9. Write a Python program that will return true if the two given integer values are equal or their sum or difference is 5.  "
   ]
  },
  {
   "cell_type": "code",
   "execution_count": 69,
   "id": "fd33b4f0-808c-463a-bec3-d31e895bb934",
   "metadata": {},
   "outputs": [
    {
     "name": "stdout",
     "output_type": "stream",
     "text": [
      "False\n"
     ]
    }
   ],
   "source": [
    "def integer_value(x,y):\n",
    "    if x==y or abs (x-y)== 5 or (x+y)== 5:\n",
    "        return True\n",
    "    else:\n",
    "        return False\n",
    "print(integer_value(1,3))"
   ]
  },
  {
   "cell_type": "code",
   "execution_count": 70,
   "id": "fe89b0e4-6fbe-4a58-990e-baa8ba574c72",
   "metadata": {},
   "outputs": [
    {
     "name": "stdout",
     "output_type": "stream",
     "text": [
      "True\n"
     ]
    }
   ],
   "source": [
    "print(integer_value(1,1))"
   ]
  },
  {
   "cell_type": "code",
   "execution_count": 71,
   "id": "e5a627d8-d428-4a42-987d-1d54ec830773",
   "metadata": {},
   "outputs": [
    {
     "name": "stdout",
     "output_type": "stream",
     "text": [
      "False\n"
     ]
    }
   ],
   "source": [
    "print(integer_value(1,5))"
   ]
  },
  {
   "cell_type": "code",
   "execution_count": null,
   "id": "9b8ce778-2cb1-49a0-bb25-45b17a27b833",
   "metadata": {},
   "outputs": [],
   "source": [
    "''''10. Write a Python program to compute the distance between the points (x1, y1) and (x2, y2).  "
   ]
  },
  {
   "cell_type": "code",
   "execution_count": 73,
   "id": "7c42f9bf-b421-4f44-9bac-404b58edd0fe",
   "metadata": {},
   "outputs": [
    {
     "name": "stdout",
     "output_type": "stream",
     "text": [
      "6.324555320336759\n"
     ]
    }
   ],
   "source": [
    "import math\n",
    "p1 = [4, 0]\n",
    "p2 = [6, 6]\n",
    "distance = math.sqrt( ((p2[0]-p1[0])**2)+((p2[1]-p1[1])**2) )\n",
    "\n",
    "print(distance)\n"
   ]
  },
  {
   "cell_type": "code",
   "execution_count": null,
   "id": "a53b19b7-6dea-4f63-bfad-74e9ab4cf2da",
   "metadata": {},
   "outputs": [],
   "source": []
  }
 ],
 "metadata": {
  "kernelspec": {
   "display_name": "Python 3 (ipykernel)",
   "language": "python",
   "name": "python3"
  },
  "language_info": {
   "codemirror_mode": {
    "name": "ipython",
    "version": 3
   },
   "file_extension": ".py",
   "mimetype": "text/x-python",
   "name": "python",
   "nbconvert_exporter": "python",
   "pygments_lexer": "ipython3",
   "version": "3.12.4"
  }
 },
 "nbformat": 4,
 "nbformat_minor": 5
}
