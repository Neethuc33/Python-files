{
 "cells": [
  {
   "cell_type": "code",
   "execution_count": null,
   "id": "472ae074-ee66-46f5-8ecb-5c2e1843ffdc",
   "metadata": {},
   "outputs": [],
   "source": [
    "''Extract data from the given SalaryGender CSV file and store the data from each column in a separate NumPy array"
   ]
  },
  {
   "cell_type": "code",
   "execution_count": 1,
   "id": "9049bccd-51f0-4e52-bfce-6fed12147abd",
   "metadata": {},
   "outputs": [],
   "source": [
    "import numpy as np\n",
    "import pandas as pd\n",
    "import os \n",
    "import matplotlib.pyplot as plt"
   ]
  },
  {
   "cell_type": "code",
   "execution_count": 11,
   "id": "b265d142-58d8-4331-ac93-d11d6c89e1b1",
   "metadata": {},
   "outputs": [
    {
     "data": {
      "text/plain": [
       "'C:\\\\Users\\\\LENOVO'"
      ]
     },
     "execution_count": 11,
     "metadata": {},
     "output_type": "execute_result"
    }
   ],
   "source": [
    "os.getcwd()"
   ]
  },
  {
   "cell_type": "code",
   "execution_count": 25,
   "id": "ffdece53-5fbb-4b30-8165-56a65abcaa7f",
   "metadata": {},
   "outputs": [
    {
     "data": {
      "text/html": [
       "<div>\n",
       "<style scoped>\n",
       "    .dataframe tbody tr th:only-of-type {\n",
       "        vertical-align: middle;\n",
       "    }\n",
       "\n",
       "    .dataframe tbody tr th {\n",
       "        vertical-align: top;\n",
       "    }\n",
       "\n",
       "    .dataframe thead th {\n",
       "        text-align: right;\n",
       "    }\n",
       "</style>\n",
       "<table border=\"1\" class=\"dataframe\">\n",
       "  <thead>\n",
       "    <tr style=\"text-align: right;\">\n",
       "      <th></th>\n",
       "      <th>Salary</th>\n",
       "      <th>Gender</th>\n",
       "      <th>Age</th>\n",
       "      <th>PhD</th>\n",
       "    </tr>\n",
       "  </thead>\n",
       "  <tbody>\n",
       "    <tr>\n",
       "      <th>0</th>\n",
       "      <td>140.0</td>\n",
       "      <td>1</td>\n",
       "      <td>47</td>\n",
       "      <td>1</td>\n",
       "    </tr>\n",
       "    <tr>\n",
       "      <th>1</th>\n",
       "      <td>30.0</td>\n",
       "      <td>0</td>\n",
       "      <td>65</td>\n",
       "      <td>1</td>\n",
       "    </tr>\n",
       "    <tr>\n",
       "      <th>2</th>\n",
       "      <td>35.1</td>\n",
       "      <td>0</td>\n",
       "      <td>56</td>\n",
       "      <td>0</td>\n",
       "    </tr>\n",
       "    <tr>\n",
       "      <th>3</th>\n",
       "      <td>30.0</td>\n",
       "      <td>1</td>\n",
       "      <td>23</td>\n",
       "      <td>0</td>\n",
       "    </tr>\n",
       "    <tr>\n",
       "      <th>4</th>\n",
       "      <td>80.0</td>\n",
       "      <td>0</td>\n",
       "      <td>53</td>\n",
       "      <td>1</td>\n",
       "    </tr>\n",
       "    <tr>\n",
       "      <th>...</th>\n",
       "      <td>...</td>\n",
       "      <td>...</td>\n",
       "      <td>...</td>\n",
       "      <td>...</td>\n",
       "    </tr>\n",
       "    <tr>\n",
       "      <th>95</th>\n",
       "      <td>18.6</td>\n",
       "      <td>1</td>\n",
       "      <td>26</td>\n",
       "      <td>0</td>\n",
       "    </tr>\n",
       "    <tr>\n",
       "      <th>96</th>\n",
       "      <td>152.0</td>\n",
       "      <td>1</td>\n",
       "      <td>56</td>\n",
       "      <td>1</td>\n",
       "    </tr>\n",
       "    <tr>\n",
       "      <th>97</th>\n",
       "      <td>1.8</td>\n",
       "      <td>1</td>\n",
       "      <td>28</td>\n",
       "      <td>0</td>\n",
       "    </tr>\n",
       "    <tr>\n",
       "      <th>98</th>\n",
       "      <td>35.0</td>\n",
       "      <td>0</td>\n",
       "      <td>44</td>\n",
       "      <td>0</td>\n",
       "    </tr>\n",
       "    <tr>\n",
       "      <th>99</th>\n",
       "      <td>4.0</td>\n",
       "      <td>0</td>\n",
       "      <td>24</td>\n",
       "      <td>0</td>\n",
       "    </tr>\n",
       "  </tbody>\n",
       "</table>\n",
       "<p>100 rows × 4 columns</p>\n",
       "</div>"
      ],
      "text/plain": [
       "    Salary  Gender  Age  PhD\n",
       "0    140.0       1   47    1\n",
       "1     30.0       0   65    1\n",
       "2     35.1       0   56    0\n",
       "3     30.0       1   23    0\n",
       "4     80.0       0   53    1\n",
       "..     ...     ...  ...  ...\n",
       "95    18.6       1   26    0\n",
       "96   152.0       1   56    1\n",
       "97     1.8       1   28    0\n",
       "98    35.0       0   44    0\n",
       "99     4.0       0   24    0\n",
       "\n",
       "[100 rows x 4 columns]"
      ]
     },
     "execution_count": 25,
     "metadata": {},
     "output_type": "execute_result"
    }
   ],
   "source": [
    "import numpy as np\n",
    "import pandas as pd\n",
    "import os \n",
    "import matplotlib.pyplot as plt\n",
    "os.chdir ('C:\\\\Users\\\\LENOVO\\\\Desktop\\\\Top Mentor Practice module\\\\Batch 93 Day2\\\\')\n",
    "os.getcwd()\n",
    "df = pd.read_csv('SalaryGender.csv')\n",
    "df"
   ]
  },
  {
   "cell_type": "code",
   "execution_count": 26,
   "id": "3da4c2d6-8744-4a60-8151-e9cd903bbb5d",
   "metadata": {},
   "outputs": [
    {
     "data": {
      "text/plain": [
       "array([140.  ,  30.  ,  35.1 ,  30.  ,  80.  ,  30.  ,  60.  ,  31.1 ,\n",
       "       125.  ,  51.  ,   3.  ,  46.  , 150.  ,   3.  , 130.  ,  15.  ,\n",
       "       130.  ,  84.  , 190.  ,  74.  ,  73.  ,  10.  ,  50.  ,   7.  ,\n",
       "         9.5 ,  15.2 ,  28.6 ,  20.  ,  72.  ,  81.  , 100.  ,  90.  ,\n",
       "        90.  ,  35.  ,  30.  ,  25.  ,  52.  ,   9.  ,  63.  ,  72.  ,\n",
       "        16.  ,  92.  , 106.  ,   2.5 ,   9.  ,  32.  ,  32.  ,  55.  ,\n",
       "        52.  ,  28.  ,  20.  ,  14.7 ,  22.3 ,  34.8 ,  84.  ,  19.  ,\n",
       "       160.  ,  65.  ,  55.  ,   4.6 , 102.  ,  20.  ,  62.  ,  55.  ,\n",
       "        45.6 ,  40.  ,  24.  ,  35.  ,  48.  ,  20.  ,  40.7 ,  15.  ,\n",
       "         0.25, 152.  ,  39.8 ,  12.  ,  30.  , 120.  ,   1.7 ,  36.  ,\n",
       "        96.  ,  38.  ,  90.  ,   9.  ,  25.8 ,  22.  ,  38.8 ,  72.  ,\n",
       "        89.  ,  41.  ,  89.  ,  25.  ,  52.  , 115.  ,  66.  ,  18.6 ,\n",
       "       152.  ,   1.8 ,  35.  ,   4.  ])"
      ]
     },
     "execution_count": 26,
     "metadata": {},
     "output_type": "execute_result"
    }
   ],
   "source": [
    "salary = np.array(df['Salary'])\n",
    "salary"
   ]
  },
  {
   "cell_type": "code",
   "execution_count": 27,
   "id": "6a48eb19-fb07-4bc7-8028-5fba80e1a0b1",
   "metadata": {},
   "outputs": [
    {
     "data": {
      "text/plain": [
       "array([1, 0, 0, 1, 0, 0, 1, 0, 1, 1, 1, 1, 1, 1, 1, 0, 1, 0, 1, 1, 0, 0,\n",
       "       0, 0, 0, 1, 1, 0, 0, 1, 0, 0, 0, 1, 0, 1, 0, 0, 1, 1, 1, 0, 1, 1,\n",
       "       0, 0, 0, 1, 1, 0, 0, 0, 1, 0, 0, 1, 1, 0, 0, 1, 1, 1, 0, 1, 1, 0,\n",
       "       0, 1, 0, 0, 0, 1, 0, 1, 0, 0, 1, 1, 1, 1, 1, 0, 1, 1, 0, 0, 0, 1,\n",
       "       1, 0, 1, 0, 1, 0, 0, 1, 1, 1, 0, 0], dtype=int64)"
      ]
     },
     "execution_count": 27,
     "metadata": {},
     "output_type": "execute_result"
    }
   ],
   "source": [
    "gender = np.array(df['Gender'])\n",
    "gender"
   ]
  },
  {
   "cell_type": "code",
   "execution_count": 28,
   "id": "e540fb8a-7ff1-4ee1-b9f2-7d35da58cd40",
   "metadata": {},
   "outputs": [
    {
     "data": {
      "text/plain": [
       "array([47, 65, 56, 23, 53, 27, 53, 30, 44, 63, 22, 59, 60, 28, 65, 25, 65,\n",
       "       47, 66, 45, 46, 24, 60, 63, 27, 66, 36, 30, 51, 65, 45, 52, 54, 30,\n",
       "       52, 26, 49, 22, 34, 60, 28, 58, 77, 67, 27, 48, 45, 49, 36, 65, 32,\n",
       "       49, 67, 22, 49, 43, 61, 43, 52, 51, 66, 29, 62, 56, 61, 56, 41, 24,\n",
       "       60, 43, 57, 23, 53, 71, 20, 27, 69, 58, 37, 32, 33, 32, 60, 71, 30,\n",
       "       62, 54, 42, 62, 51, 71, 29, 55, 54, 55, 26, 56, 28, 44, 24],\n",
       "      dtype=int64)"
      ]
     },
     "execution_count": 28,
     "metadata": {},
     "output_type": "execute_result"
    }
   ],
   "source": [
    "age = np.array(df['Age'])\n",
    "age"
   ]
  },
  {
   "cell_type": "code",
   "execution_count": 29,
   "id": "71b1a6d7-f2a3-4c65-90b1-571d018f5d86",
   "metadata": {},
   "outputs": [
    {
     "data": {
      "text/plain": [
       "array([1, 1, 0, 0, 1, 0, 0, 0, 1, 1, 0, 0, 1, 0, 0, 0, 0, 1, 1, 1, 0, 0,\n",
       "       0, 0, 0, 1, 1, 0, 1, 1, 1, 1, 1, 0, 0, 0, 0, 0, 1, 0, 0, 1, 1, 0,\n",
       "       0, 1, 0, 1, 0, 1, 0, 0, 0, 0, 1, 0, 1, 1, 0, 0, 1, 0, 0, 1, 0, 0,\n",
       "       0, 0, 0, 0, 0, 0, 0, 1, 0, 0, 1, 1, 0, 1, 1, 1, 0, 0, 0, 0, 0, 1,\n",
       "       0, 1, 1, 0, 1, 0, 1, 0, 1, 0, 0, 0], dtype=int64)"
      ]
     },
     "execution_count": 29,
     "metadata": {},
     "output_type": "execute_result"
    }
   ],
   "source": [
    "phd = np.array(df['PhD'])\n",
    "phd"
   ]
  },
  {
   "cell_type": "code",
   "execution_count": null,
   "id": "a60f9c44-5907-4a09-b07d-09290830daf9",
   "metadata": {},
   "outputs": [],
   "source": [
    "'''''2.\tFind:\n",
    "1. The number of men with a PhD\n",
    "\n",
    "\n",
    "2. The number of women with a PhD\n"
   ]
  },
  {
   "cell_type": "code",
   "execution_count": 30,
   "id": "2d2d41a0-7556-4ed1-abde-dcd45e87c63d",
   "metadata": {},
   "outputs": [
    {
     "name": "stdout",
     "output_type": "stream",
     "text": [
      "Men Count 24\n",
      "Woman Count 15\n"
     ]
    }
   ],
   "source": [
    "men_count = 0\n",
    "women_count = 0\n",
    "for i in range(0, 100):\n",
    "    if gender[i] == 1 and phd[i] == 1:\n",
    "        men_count +=1\n",
    "    if gender[i] == 0 and phd[i] == 1:\n",
    "        women_count +=1\n",
    "\n",
    "print('Men Count', men_count)\n",
    "print('Woman Count',women_count)"
   ]
  },
  {
   "cell_type": "code",
   "execution_count": null,
   "id": "c552d663-aff0-4bb9-93cb-41894d6ce754",
   "metadata": {},
   "outputs": [],
   "source": [
    "'''3.\tUse SalaryGender CSV file. Store the “Age” and “PhD” columns in one DataFrame and delete the data of all people who don’t have a PhD"
   ]
  },
  {
   "cell_type": "code",
   "execution_count": 31,
   "id": "87e53d6c-578d-4944-8d66-50be94430a04",
   "metadata": {},
   "outputs": [
    {
     "name": "stdout",
     "output_type": "stream",
     "text": [
      "Number of records 39\n",
      "    Age  PhD\n",
      "0    47    1\n",
      "1    65    1\n",
      "4    53    1\n",
      "8    44    1\n",
      "9    63    1\n",
      "12   60    1\n",
      "17   47    1\n",
      "18   66    1\n",
      "19   45    1\n",
      "25   66    1\n",
      "26   36    1\n",
      "28   51    1\n",
      "29   65    1\n",
      "30   45    1\n",
      "31   52    1\n",
      "32   54    1\n",
      "38   34    1\n",
      "41   58    1\n",
      "42   77    1\n",
      "45   48    1\n",
      "47   49    1\n",
      "49   65    1\n",
      "54   49    1\n",
      "56   61    1\n",
      "57   43    1\n",
      "60   66    1\n",
      "63   56    1\n",
      "73   71    1\n",
      "76   69    1\n",
      "77   58    1\n",
      "79   32    1\n",
      "80   33    1\n",
      "81   32    1\n",
      "87   42    1\n",
      "89   51    1\n",
      "90   71    1\n",
      "92   55    1\n",
      "94   55    1\n",
      "96   56    1\n"
     ]
    }
   ],
   "source": [
    "frame = pd.DataFrame()\n",
    "frame[\"Age\"] = age\n",
    "frame[\"PhD\"] = phd\n",
    "\n",
    "for i in range(0, 100):\n",
    "    if frame.loc[i][\"PhD\"] == 0:\n",
    "        frame = frame.drop(i)\n",
    "print('Number of records',len(frame))\n",
    "print(frame)"
   ]
  },
  {
   "cell_type": "code",
   "execution_count": null,
   "id": "b050a323-07f1-48e1-8bda-d47b0b562148",
   "metadata": {},
   "outputs": [],
   "source": [
    "''''4.\tCalculate the total number of people who have a PhD degree from SalaryGender CSV file.\n"
   ]
  },
  {
   "cell_type": "code",
   "execution_count": 33,
   "id": "5138dc22-5720-4c95-85d2-0e1897060cf7",
   "metadata": {},
   "outputs": [
    {
     "name": "stdout",
     "output_type": "stream",
     "text": [
      "PhD Count: 39\n"
     ]
    }
   ],
   "source": [
    "df = pd.read_csv('SalaryGender.csv', delimiter=',')\n",
    "phdcount=0\n",
    "for i in range(0, 100):\n",
    "    if df.iloc[i]['PhD'] == 1:\n",
    "        phdcount=phdcount+1\n",
    "\n",
    "        \n",
    "print('PhD Count:',phdcount)"
   ]
  },
  {
   "cell_type": "code",
   "execution_count": null,
   "id": "0073f9f1-26d0-4343-9315-f572096ae6b1",
   "metadata": {},
   "outputs": [],
   "source": [
    "''''5.\tHow do you Count The Number Of Times Each Value Appears In An Array Of Integers? "
   ]
  },
  {
   "cell_type": "code",
   "execution_count": 34,
   "id": "5f55e163-38bb-46b8-8efd-f727b2bed917",
   "metadata": {},
   "outputs": [
    {
     "name": "stdout",
     "output_type": "stream",
     "text": [
      "[4 2 1 1 3 2 0 0 0 1]\n"
     ]
    }
   ],
   "source": [
    "arr = np.array([0, 5, 4, 0, 4, 4, 3, 0, 0, 5, 2, 1, 1, 9])\n",
    "print(np.bincount(arr))"
   ]
  },
  {
   "cell_type": "code",
   "execution_count": null,
   "id": "f2754acd-e45e-4467-a967-7b2ff43b3b0e",
   "metadata": {},
   "outputs": [],
   "source": [
    "'''6.\tCreate a numpy array [[0, 1, 2], [ 3, 4, 5], [ 6, 7, 8],[ 9, 10, 11]]) and filter the elements greater than 5."
   ]
  },
  {
   "cell_type": "code",
   "execution_count": 35,
   "id": "96971705-cbc8-467f-88a1-8c9384fea035",
   "metadata": {},
   "outputs": [
    {
     "name": "stdout",
     "output_type": "stream",
     "text": [
      "Our array is:\n",
      "[[ 0  1  2]\n",
      " [ 3  4  5]\n",
      " [ 6  7  8]\n",
      " [ 9 10 11]]\n"
     ]
    }
   ],
   "source": [
    "import numpy as np\n",
    "x = np.array([[ 0,  1,  2],[ 3,  4,  5],[ 6,  7,  8],[ 9, 10, 11]])\n",
    "print('Our array is:' )\n",
    "print(x)"
   ]
  },
  {
   "cell_type": "code",
   "execution_count": 36,
   "id": "3ee90c3e-3d9c-426b-bdba-464c79b0bfba",
   "metadata": {},
   "outputs": [
    {
     "name": "stdout",
     "output_type": "stream",
     "text": [
      "The items greater than 5 are:\n",
      "[ 6  7  8  9 10 11]\n"
     ]
    }
   ],
   "source": [
    "print('The items greater than 5 are:' )\n",
    "\n",
    "print(x[x > 5])\n"
   ]
  },
  {
   "cell_type": "code",
   "execution_count": null,
   "id": "cbd4ca96-4ca9-40a6-b03f-958e33754803",
   "metadata": {},
   "outputs": [],
   "source": [
    "''''7.\tCreate a numpy array having NaN (Not a Number) and print it.\n",
    "\n",
    "array([ nan, 1., 2., nan, 3., 4., 5.])\n",
    "Print the same array omitting all elements which are nan"
   ]
  },
  {
   "cell_type": "code",
   "execution_count": 37,
   "id": "0ff2c7b8-dd32-4aaf-964d-73f62b1ac857",
   "metadata": {},
   "outputs": [
    {
     "name": "stdout",
     "output_type": "stream",
     "text": [
      "[nan  1.  2. nan  3.  4.  5.]\n",
      "[1. 2. 3. 4. 5.]\n"
     ]
    }
   ],
   "source": [
    "import numpy\n",
    "a = numpy.array([numpy.nan, 1,2,numpy.nan,3,4,5])\n",
    "print(a)\n",
    "print(a[~numpy.isnan(a)])"
   ]
  },
  {
   "cell_type": "code",
   "execution_count": null,
   "id": "40324928-331e-4a4e-9e74-f506350f54fe",
   "metadata": {},
   "outputs": [],
   "source": [
    "''''8.\tCreate a 10x10 array with random values and find the minimum and maximum values."
   ]
  },
  {
   "cell_type": "code",
   "execution_count": 38,
   "id": "a82386e7-7c5e-4b8a-94d3-551b5e5c267b",
   "metadata": {},
   "outputs": [
    {
     "name": "stdout",
     "output_type": "stream",
     "text": [
      "          0         1         2         3         4         5         6  \\\n",
      "0  0.827607  0.632783  0.993889  0.736590  0.224267  0.938509  0.354160   \n",
      "1  0.860615  0.081634  0.154448  0.382218  0.497254  0.881274  0.546509   \n",
      "2  0.840077  0.884579  0.962542  0.206357  0.770032  0.176986  0.663821   \n",
      "3  0.075347  0.678054  0.654268  0.939583  0.788346  0.303774  0.786821   \n",
      "4  0.184920  0.569771  0.231757  0.122632  0.677268  0.998183  0.530338   \n",
      "5  0.949061  0.530281  0.278726  0.489322  0.470160  0.922975  0.227187   \n",
      "6  0.897699  0.596356  0.643923  0.440710  0.393053  0.272900  0.231899   \n",
      "7  0.364140  0.474128  0.780517  0.255953  0.594277  0.494521  0.871252   \n",
      "8  0.082977  0.607638  0.951871  0.987621  0.589972  0.121661  0.134596   \n",
      "9  0.471578  0.118369  0.438098  0.960349  0.075123  0.280698  0.358962   \n",
      "\n",
      "          7         8         9  \n",
      "0  0.926320  0.590355  0.642209  \n",
      "1  0.257699  0.759018  0.967170  \n",
      "2  0.103363  0.387735  0.073487  \n",
      "3  0.716636  0.798334  0.889899  \n",
      "4  0.337430  0.860591  0.248606  \n",
      "5  0.186164  0.832826  0.456973  \n",
      "6  0.715819  0.069667  0.088422  \n",
      "7  0.054476  0.957109  0.856801  \n",
      "8  0.265702  0.502933  0.346703  \n",
      "9  0.903609  0.848686  0.972354  \n"
     ]
    }
   ],
   "source": [
    "import numpy as np\n",
    "Z = np.random.random((10,10))\n",
    "print (pd.DataFrame(Z))"
   ]
  },
  {
   "cell_type": "code",
   "execution_count": 39,
   "id": "386a3515-b4ee-4a7d-aa65-b7e4b6b79039",
   "metadata": {},
   "outputs": [
    {
     "name": "stdout",
     "output_type": "stream",
     "text": [
      "Min and Max Values\n",
      "0.05447586590448461 0.9981828047107358\n"
     ]
    }
   ],
   "source": [
    "Zmin, Zmax = Z.min(), Z.max()\n",
    "print ('Min and Max Values')\n",
    "print(Zmin, Zmax)"
   ]
  },
  {
   "cell_type": "code",
   "execution_count": null,
   "id": "bf48678e-2e65-4d41-bdc1-3da1e0f092f4",
   "metadata": {},
   "outputs": [],
   "source": [
    "'''''9.\tCreate a random vector of size 30 and find the mean value."
   ]
  },
  {
   "cell_type": "code",
   "execution_count": 40,
   "id": "fb620129-bc7e-4e6a-aaa7-c639e97be81b",
   "metadata": {},
   "outputs": [
    {
     "name": "stdout",
     "output_type": "stream",
     "text": [
      "0.4906047313768215\n"
     ]
    }
   ],
   "source": [
    "import numpy as np\n",
    "Z = np.random.random(30)\n",
    "m = Z.mean()\n",
    "print(m) "
   ]
  },
  {
   "cell_type": "code",
   "execution_count": null,
   "id": "3ef59e73-247d-464e-ae1c-0fc60f75c5ae",
   "metadata": {},
   "outputs": [],
   "source": [
    "'''''''10.\tCreate numpy array having elements 0 to 10 And negate all the elements between 3 and 9\n",
    "\n",
    "Array\n",
    "[ 0  1  2  3  4  5  6  7  8  9 10]\n",
    "\n",
    "Negeted Array\n",
    "[ 0  1  2  3 -4 -5 -6 -7 -8  9 10]\n"
   ]
  },
  {
   "cell_type": "code",
   "execution_count": 41,
   "id": "da20971f-426e-4e1b-bf30-6198b7d48738",
   "metadata": {},
   "outputs": [
    {
     "name": "stdout",
     "output_type": "stream",
     "text": [
      "Array\n",
      "[ 0  1  2  3  4  5  6  7  8  9 10]\n"
     ]
    }
   ],
   "source": [
    "import numpy as np\n",
    "Z = np.arange(11)\n",
    "print ('Array')\n",
    "print (Z)"
   ]
  },
  {
   "cell_type": "code",
   "execution_count": 42,
   "id": "b66316e9-90b2-4470-be0f-5d5d5beb02d0",
   "metadata": {},
   "outputs": [
    {
     "name": "stdout",
     "output_type": "stream",
     "text": [
      "Negeted Array\n",
      "[ 0  1  2  3 -4 -5 -6 -7 -8  9 10]\n"
     ]
    }
   ],
   "source": [
    "Z[(3 < Z) & (Z <= 8)] *= -1\n",
    "print ('Negeted Array')\n",
    "print(Z)"
   ]
  },
  {
   "cell_type": "code",
   "execution_count": null,
   "id": "c8fa7319-d3f8-4121-a9dd-41fb45a91952",
   "metadata": {},
   "outputs": [],
   "source": [
    "''''11.\tCreate a random array of 3 rows and 3 columns and sort it according to 1st column, 2nd column or 3rd column."
   ]
  },
  {
   "cell_type": "code",
   "execution_count": 44,
   "id": "530cf7d6-173f-445d-8c31-c789146cfe68",
   "metadata": {},
   "outputs": [
    {
     "name": "stdout",
     "output_type": "stream",
     "text": [
      "[[2 7 2]\n",
      " [4 9 4]\n",
      " [1 0 6]]\n"
     ]
    }
   ],
   "source": [
    "Z = np.random.randint(0,10,(3,3))\n",
    "print(Z)"
   ]
  },
  {
   "cell_type": "code",
   "execution_count": 45,
   "id": "69c49015-fd44-4ecb-925b-7d937b43e51e",
   "metadata": {},
   "outputs": [
    {
     "name": "stdout",
     "output_type": "stream",
     "text": [
      "\n"
     ]
    }
   ],
   "source": [
    "print ()"
   ]
  },
  {
   "cell_type": "code",
   "execution_count": 46,
   "id": "b9fddda4-f50b-4412-8bda-fca06d91d7c2",
   "metadata": {},
   "outputs": [
    {
     "name": "stdout",
     "output_type": "stream",
     "text": [
      "[[1 0 6]\n",
      " [2 7 2]\n",
      " [4 9 4]]\n"
     ]
    }
   ],
   "source": [
    "print(Z[Z[:,1].argsort()])"
   ]
  },
  {
   "cell_type": "code",
   "execution_count": null,
   "id": "9532fe42-c2e4-448a-8bf2-d3ee248a71ff",
   "metadata": {},
   "outputs": [],
   "source": [
    "'''12.\tCreate a four dimensions array (2,2,2,2) get sum over the last two axis at once."
   ]
  },
  {
   "cell_type": "code",
   "execution_count": 47,
   "id": "4d321018-bdf2-4c3e-bdd7-454f58c03f1b",
   "metadata": {},
   "outputs": [
    {
     "name": "stdout",
     "output_type": "stream",
     "text": [
      "Array\n",
      "[[[[9 8]\n",
      "   [9 6]]\n",
      "\n",
      "  [[2 6]\n",
      "   [9 2]]]\n",
      "\n",
      "\n",
      " [[[6 1]\n",
      "   [3 9]]\n",
      "\n",
      "  [[4 5]\n",
      "   [7 5]]]]\n"
     ]
    }
   ],
   "source": [
    "A = np.random.randint(0,10,(2,2,2,2))\n",
    "print ('Array')\n",
    "print (A)"
   ]
  },
  {
   "cell_type": "code",
   "execution_count": 48,
   "id": "59d14c1b-0db2-4f54-bfde-a3572cd8b551",
   "metadata": {},
   "outputs": [
    {
     "name": "stdout",
     "output_type": "stream",
     "text": [
      "Result\n",
      "[[32 19]\n",
      " [19 21]]\n"
     ]
    }
   ],
   "source": [
    "sum = A.reshape(A.shape[:-2] + (-1,)).sum(axis=-1)\n",
    "print ('Result')\n",
    "print(sum)"
   ]
  },
  {
   "cell_type": "code",
   "execution_count": null,
   "id": "a7410d27-51c6-4264-9efa-78c087f14da4",
   "metadata": {},
   "outputs": [],
   "source": [
    "'''13.\tCreate a random array ( 5,5) and swap two rows of an array."
   ]
  },
  {
   "cell_type": "code",
   "execution_count": null,
   "id": "4f018e0b-2798-4dd5-a060-5c8216da6d65",
   "metadata": {},
   "outputs": [],
   "source": [
    "''''Random Array\n",
    "[[ 0  1  2  3  4]\n",
    " [ 5  6  7  8  9]\n",
    " [10 11 12 13 14]\n",
    " [15 16 17 18 19]\n",
    " [20 21 22 23 24]]\n"
   ]
  },
  {
   "cell_type": "code",
   "execution_count": 49,
   "id": "e3edf38c-479f-46e2-93b0-bf381e09607b",
   "metadata": {},
   "outputs": [
    {
     "name": "stdout",
     "output_type": "stream",
     "text": [
      "Random Array\n",
      "[[ 0  1  2  3  4]\n",
      " [ 5  6  7  8  9]\n",
      " [10 11 12 13 14]\n",
      " [15 16 17 18 19]\n",
      " [20 21 22 23 24]]\n"
     ]
    }
   ],
   "source": [
    "A = np.arange(25).reshape(5,5)\n",
    "print ('Random Array')\n",
    "print (A)"
   ]
  },
  {
   "cell_type": "code",
   "execution_count": 51,
   "id": "6b35075c-1028-4900-b5af-4f5153601d4b",
   "metadata": {},
   "outputs": [
    {
     "name": "stdout",
     "output_type": "stream",
     "text": [
      "\n",
      "Swapped Array\n",
      "[[ 0  1  2  3  4]\n",
      " [ 5  6  7  8  9]\n",
      " [10 11 12 13 14]\n",
      " [15 16 17 18 19]\n",
      " [20 21 22 23 24]]\n"
     ]
    }
   ],
   "source": [
    "A[[0,1]] = A[[1,0]]\n",
    "print ()\n",
    "print ('Swapped Array')\n",
    "print(A)\n"
   ]
  },
  {
   "cell_type": "code",
   "execution_count": 53,
   "id": "9ea196d0-66d0-4859-bdd7-587ffc4ad97e",
   "metadata": {},
   "outputs": [
    {
     "data": {
      "text/plain": [
       "'C:\\\\Users\\\\LENOVO\\\\Desktop\\\\Top Mentor Practice module\\\\Batch 93 Day2'"
      ]
     },
     "execution_count": 53,
     "metadata": {},
     "output_type": "execute_result"
    }
   ],
   "source": [
    "import numpy as np\n",
    "import pandas as pd\n",
    "import os \n",
    "import matplotlib.pyplot as plt\n",
    "os.getcwd()"
   ]
  },
  {
   "cell_type": "code",
   "execution_count": 54,
   "id": "28a9e184-3426-432e-a60f-ca3f5c564500",
   "metadata": {},
   "outputs": [
    {
     "data": {
      "text/html": [
       "<div>\n",
       "<style scoped>\n",
       "    .dataframe tbody tr th:only-of-type {\n",
       "        vertical-align: middle;\n",
       "    }\n",
       "\n",
       "    .dataframe tbody tr th {\n",
       "        vertical-align: top;\n",
       "    }\n",
       "\n",
       "    .dataframe thead th {\n",
       "        text-align: right;\n",
       "    }\n",
       "</style>\n",
       "<table border=\"1\" class=\"dataframe\">\n",
       "  <thead>\n",
       "    <tr style=\"text-align: right;\">\n",
       "      <th></th>\n",
       "      <th>school_rating</th>\n",
       "      <th>size</th>\n",
       "      <th>reduced_lunch</th>\n",
       "      <th>state_percentile_16</th>\n",
       "      <th>state_percentile_15</th>\n",
       "      <th>stu_teach_ratio</th>\n",
       "      <th>avg_score_15</th>\n",
       "      <th>avg_score_16</th>\n",
       "      <th>full_time_teachers</th>\n",
       "      <th>percent_black</th>\n",
       "      <th>percent_white</th>\n",
       "      <th>percent_asian</th>\n",
       "      <th>percent_hispanic</th>\n",
       "    </tr>\n",
       "  </thead>\n",
       "  <tbody>\n",
       "    <tr>\n",
       "      <th>count</th>\n",
       "      <td>347.000000</td>\n",
       "      <td>347.000000</td>\n",
       "      <td>347.000000</td>\n",
       "      <td>347.000000</td>\n",
       "      <td>341.000000</td>\n",
       "      <td>347.000000</td>\n",
       "      <td>341.000000</td>\n",
       "      <td>347.000000</td>\n",
       "      <td>347.000000</td>\n",
       "      <td>347.000000</td>\n",
       "      <td>347.000000</td>\n",
       "      <td>347.000000</td>\n",
       "      <td>347.000000</td>\n",
       "    </tr>\n",
       "    <tr>\n",
       "      <th>mean</th>\n",
       "      <td>2.968300</td>\n",
       "      <td>699.472622</td>\n",
       "      <td>50.279539</td>\n",
       "      <td>58.801729</td>\n",
       "      <td>58.249267</td>\n",
       "      <td>15.461671</td>\n",
       "      <td>57.004692</td>\n",
       "      <td>57.049856</td>\n",
       "      <td>44.939481</td>\n",
       "      <td>21.197983</td>\n",
       "      <td>61.673487</td>\n",
       "      <td>2.642651</td>\n",
       "      <td>11.164553</td>\n",
       "    </tr>\n",
       "    <tr>\n",
       "      <th>std</th>\n",
       "      <td>1.690377</td>\n",
       "      <td>400.598636</td>\n",
       "      <td>25.480236</td>\n",
       "      <td>32.540747</td>\n",
       "      <td>32.702630</td>\n",
       "      <td>5.725170</td>\n",
       "      <td>26.696450</td>\n",
       "      <td>27.968974</td>\n",
       "      <td>22.053386</td>\n",
       "      <td>23.562538</td>\n",
       "      <td>27.274859</td>\n",
       "      <td>3.109629</td>\n",
       "      <td>12.030608</td>\n",
       "    </tr>\n",
       "    <tr>\n",
       "      <th>min</th>\n",
       "      <td>0.000000</td>\n",
       "      <td>53.000000</td>\n",
       "      <td>2.000000</td>\n",
       "      <td>0.200000</td>\n",
       "      <td>0.600000</td>\n",
       "      <td>4.700000</td>\n",
       "      <td>1.500000</td>\n",
       "      <td>0.100000</td>\n",
       "      <td>2.000000</td>\n",
       "      <td>0.000000</td>\n",
       "      <td>1.100000</td>\n",
       "      <td>0.000000</td>\n",
       "      <td>0.000000</td>\n",
       "    </tr>\n",
       "    <tr>\n",
       "      <th>25%</th>\n",
       "      <td>2.000000</td>\n",
       "      <td>420.500000</td>\n",
       "      <td>30.000000</td>\n",
       "      <td>30.950000</td>\n",
       "      <td>27.100000</td>\n",
       "      <td>13.700000</td>\n",
       "      <td>37.600000</td>\n",
       "      <td>37.000000</td>\n",
       "      <td>30.000000</td>\n",
       "      <td>3.600000</td>\n",
       "      <td>40.600000</td>\n",
       "      <td>0.750000</td>\n",
       "      <td>3.800000</td>\n",
       "    </tr>\n",
       "    <tr>\n",
       "      <th>50%</th>\n",
       "      <td>3.000000</td>\n",
       "      <td>595.000000</td>\n",
       "      <td>51.000000</td>\n",
       "      <td>66.400000</td>\n",
       "      <td>65.800000</td>\n",
       "      <td>15.000000</td>\n",
       "      <td>61.800000</td>\n",
       "      <td>60.700000</td>\n",
       "      <td>40.000000</td>\n",
       "      <td>13.500000</td>\n",
       "      <td>68.700000</td>\n",
       "      <td>1.600000</td>\n",
       "      <td>6.400000</td>\n",
       "    </tr>\n",
       "    <tr>\n",
       "      <th>75%</th>\n",
       "      <td>4.000000</td>\n",
       "      <td>851.000000</td>\n",
       "      <td>71.500000</td>\n",
       "      <td>88.000000</td>\n",
       "      <td>88.600000</td>\n",
       "      <td>16.700000</td>\n",
       "      <td>79.600000</td>\n",
       "      <td>80.250000</td>\n",
       "      <td>54.000000</td>\n",
       "      <td>28.350000</td>\n",
       "      <td>85.950000</td>\n",
       "      <td>3.100000</td>\n",
       "      <td>13.800000</td>\n",
       "    </tr>\n",
       "    <tr>\n",
       "      <th>max</th>\n",
       "      <td>5.000000</td>\n",
       "      <td>2314.000000</td>\n",
       "      <td>98.000000</td>\n",
       "      <td>99.800000</td>\n",
       "      <td>99.800000</td>\n",
       "      <td>111.000000</td>\n",
       "      <td>99.000000</td>\n",
       "      <td>98.900000</td>\n",
       "      <td>140.000000</td>\n",
       "      <td>97.400000</td>\n",
       "      <td>99.700000</td>\n",
       "      <td>21.100000</td>\n",
       "      <td>65.200000</td>\n",
       "    </tr>\n",
       "  </tbody>\n",
       "</table>\n",
       "</div>"
      ],
      "text/plain": [
       "       school_rating         size  reduced_lunch  state_percentile_16  \\\n",
       "count     347.000000   347.000000     347.000000           347.000000   \n",
       "mean        2.968300   699.472622      50.279539            58.801729   \n",
       "std         1.690377   400.598636      25.480236            32.540747   \n",
       "min         0.000000    53.000000       2.000000             0.200000   \n",
       "25%         2.000000   420.500000      30.000000            30.950000   \n",
       "50%         3.000000   595.000000      51.000000            66.400000   \n",
       "75%         4.000000   851.000000      71.500000            88.000000   \n",
       "max         5.000000  2314.000000      98.000000            99.800000   \n",
       "\n",
       "       state_percentile_15  stu_teach_ratio  avg_score_15  avg_score_16  \\\n",
       "count           341.000000       347.000000    341.000000    347.000000   \n",
       "mean             58.249267        15.461671     57.004692     57.049856   \n",
       "std              32.702630         5.725170     26.696450     27.968974   \n",
       "min               0.600000         4.700000      1.500000      0.100000   \n",
       "25%              27.100000        13.700000     37.600000     37.000000   \n",
       "50%              65.800000        15.000000     61.800000     60.700000   \n",
       "75%              88.600000        16.700000     79.600000     80.250000   \n",
       "max              99.800000       111.000000     99.000000     98.900000   \n",
       "\n",
       "       full_time_teachers  percent_black  percent_white  percent_asian  \\\n",
       "count          347.000000     347.000000     347.000000     347.000000   \n",
       "mean            44.939481      21.197983      61.673487       2.642651   \n",
       "std             22.053386      23.562538      27.274859       3.109629   \n",
       "min              2.000000       0.000000       1.100000       0.000000   \n",
       "25%             30.000000       3.600000      40.600000       0.750000   \n",
       "50%             40.000000      13.500000      68.700000       1.600000   \n",
       "75%             54.000000      28.350000      85.950000       3.100000   \n",
       "max            140.000000      97.400000      99.700000      21.100000   \n",
       "\n",
       "       percent_hispanic  \n",
       "count        347.000000  \n",
       "mean          11.164553  \n",
       "std           12.030608  \n",
       "min            0.000000  \n",
       "25%            3.800000  \n",
       "50%            6.400000  \n",
       "75%           13.800000  \n",
       "max           65.200000  "
      ]
     },
     "execution_count": 54,
     "metadata": {},
     "output_type": "execute_result"
    }
   ],
   "source": [
    "df = pd.readf = pd.read_csv(\"middle_tn_schools.csv\")\n",
    "df.describe()"
   ]
  },
  {
   "cell_type": "code",
   "execution_count": null,
   "id": "80d8d4ed-259a-4447-b73a-bc2c3699d302",
   "metadata": {},
   "outputs": [],
   "source": [
    "''Group data by school ratings"
   ]
  },
  {
   "cell_type": "code",
   "execution_count": 55,
   "id": "e258afe5-737f-4188-8ef5-8b10cc5ebc0e",
   "metadata": {},
   "outputs": [
    {
     "data": {
      "text/plain": [
       "                      school_rating\n",
       "reduced_lunch  count  0.0              43.000000\n",
       "                      1.0              40.000000\n",
       "                      2.0              44.000000\n",
       "                      3.0              56.000000\n",
       "                      4.0              86.000000\n",
       "                      5.0              78.000000\n",
       "               mean   0.0              83.581395\n",
       "                      1.0              74.950000\n",
       "                      2.0              64.272727\n",
       "                      3.0              50.285714\n",
       "                      4.0              41.000000\n",
       "                      5.0              21.602564\n",
       "               std    0.0               8.813498\n",
       "                      1.0              11.644191\n",
       "                      2.0              11.956051\n",
       "                      3.0              13.550866\n",
       "                      4.0              16.681092\n",
       "                      5.0              17.651268\n",
       "               min    0.0              53.000000\n",
       "                      1.0              53.000000\n",
       "                      2.0              37.000000\n",
       "                      3.0              24.000000\n",
       "                      4.0               4.000000\n",
       "                      5.0               2.000000\n",
       "               25%    0.0              79.500000\n",
       "                      1.0              65.000000\n",
       "                      2.0              54.750000\n",
       "                      3.0              41.000000\n",
       "                      4.0              30.000000\n",
       "                      5.0               8.000000\n",
       "               50%    0.0              86.000000\n",
       "                      1.0              74.500000\n",
       "                      2.0              62.500000\n",
       "                      3.0              48.500000\n",
       "                      4.0              41.500000\n",
       "                      5.0              19.000000\n",
       "               75%    0.0              90.000000\n",
       "                      1.0              84.250000\n",
       "                      2.0              74.000000\n",
       "                      3.0              63.000000\n",
       "                      4.0              50.000000\n",
       "                      5.0              29.750000\n",
       "               max    0.0              98.000000\n",
       "                      1.0              98.000000\n",
       "                      2.0              88.000000\n",
       "                      3.0              78.000000\n",
       "                      4.0              87.000000\n",
       "                      5.0              87.000000\n",
       "dtype: float64"
      ]
     },
     "execution_count": 55,
     "metadata": {},
     "output_type": "execute_result"
    }
   ],
   "source": [
    "df[['reduced_lunch', 'school_rating']].groupby(['school_rating']).describe().unstack()"
   ]
  },
  {
   "cell_type": "code",
   "execution_count": 56,
   "id": "82eb5b67-ec9b-4a7b-a627-71f58ac0d046",
   "metadata": {},
   "outputs": [
    {
     "data": {
      "text/html": [
       "<div>\n",
       "<style scoped>\n",
       "    .dataframe tbody tr th:only-of-type {\n",
       "        vertical-align: middle;\n",
       "    }\n",
       "\n",
       "    .dataframe tbody tr th {\n",
       "        vertical-align: top;\n",
       "    }\n",
       "\n",
       "    .dataframe thead th {\n",
       "        text-align: right;\n",
       "    }\n",
       "</style>\n",
       "<table border=\"1\" class=\"dataframe\">\n",
       "  <thead>\n",
       "    <tr style=\"text-align: right;\">\n",
       "      <th></th>\n",
       "      <th>reduced_lunch</th>\n",
       "      <th>school_rating</th>\n",
       "    </tr>\n",
       "  </thead>\n",
       "  <tbody>\n",
       "    <tr>\n",
       "      <th>reduced_lunch</th>\n",
       "      <td>1.000000</td>\n",
       "      <td>-0.815757</td>\n",
       "    </tr>\n",
       "    <tr>\n",
       "      <th>school_rating</th>\n",
       "      <td>-0.815757</td>\n",
       "      <td>1.000000</td>\n",
       "    </tr>\n",
       "  </tbody>\n",
       "</table>\n",
       "</div>"
      ],
      "text/plain": [
       "               reduced_lunch  school_rating\n",
       "reduced_lunch       1.000000      -0.815757\n",
       "school_rating      -0.815757       1.000000"
      ]
     },
     "execution_count": 56,
     "metadata": {},
     "output_type": "execute_result"
    }
   ],
   "source": [
    "df[['reduced_lunch', 'school_rating']].corr()"
   ]
  },
  {
   "cell_type": "code",
   "execution_count": 58,
   "id": "948f9fba-7644-44e3-8395-235498ae1b38",
   "metadata": {},
   "outputs": [
    {
     "data": {
      "image/png": "[encoded data removed]",
      "text/plain": [
       "<Figure size 1400x800 with 1 Axes>"
      ]
     },
     "metadata": {},
     "output_type": "display_data"
    }
   ],
   "source": [
    "import matplotlib.pyplot as plt\n",
    "import seaborn as sns\n",
    "df = pd.readf = pd.read_csv(\"middle_tn_schools.csv\")\n",
    "plt.figure(figsize=(14,8)) # set the size of the graph\n",
    "sns.regplot(data=df, x='reduced_lunch', y='school_rating')\n",
    "plt.show()"
   ]
  },
  {
   "cell_type": "code",
   "execution_count": null,
   "id": "e176c7e6-375c-4035-ace8-874ebd3aace8",
   "metadata": {},
   "outputs": [],
   "source": []
  },
  {
   "cell_type": "code",
   "execution_count": null,
   "id": "af320cf9-b87c-44cc-9d30-4e968d8998fa",
   "metadata": {},
   "outputs": [],
   "source": []
  },
  {
   "cell_type": "code",
   "execution_count": null,
   "id": "66cece30-dc5e-40e1-b31a-89a30633ddd2",
   "metadata": {},
   "outputs": [],
   "source": []
  },
  {
   "cell_type": "code",
   "execution_count": null,
   "id": "23e83a9c-8091-498d-9bd6-1b2034d6bd75",
   "metadata": {},
   "outputs": [],
   "source": []
  }
 ],
 "metadata": {
  "kernelspec": {
   "display_name": "Python 3 (ipykernel)",
   "language": "python",
   "name": "python3"
  },
  "language_info": {
   "codemirror_mode": {
    "name": "ipython",
    "version": 3
   },
   "file_extension": ".py",
   "mimetype": "text/x-python",
   "name": "python",
   "nbconvert_exporter": "python",
   "pygments_lexer": "ipython3",
   "version": "3.12.4"
  }
 },
 "nbformat": 4,
 "nbformat_minor": 5
}
