{
 "cells": [
  {
   "cell_type": "code",
   "execution_count": null,
   "id": "befaa55f-b3b3-450f-a58a-1461fb0ee105",
   "metadata": {},
   "outputs": [],
   "source": [
    "''What is the output of the following code?"
   ]
  },
  {
   "cell_type": "code",
   "execution_count": 1,
   "id": "1b1424c6-1f90-4ec2-83ef-e952d1b1fd3c",
   "metadata": {},
   "outputs": [
    {
     "name": "stdout",
     "output_type": "stream",
     "text": [
      "4\n"
     ]
    }
   ],
   "source": [
    "nums = set([1,1,2,3,3,3,4,4])\n",
    "print(len(nums))\n"
   ]
  },
  {
   "cell_type": "code",
   "execution_count": null,
   "id": "689d18e1-17a5-4ec2-8942-b66ef70bb3bc",
   "metadata": {},
   "outputs": [],
   "source": [
    "''What will be the output?"
   ]
  },
  {
   "cell_type": "code",
   "execution_count": 2,
   "id": "81e79768-76ac-4f40-b803-49b9c4bac036",
   "metadata": {},
   "outputs": [
    {
     "name": "stdout",
     "output_type": "stream",
     "text": [
      "['john', 'peter']\n"
     ]
    }
   ],
   "source": [
    "d = {\"john\":40, \"peter\":45}\n",
    "print(list(d.keys()))\n"
   ]
  },
  {
   "cell_type": "code",
   "execution_count": null,
   "id": "167c0464-acb0-44ed-be25-19d2a4b7f13a",
   "metadata": {},
   "outputs": [],
   "source": [
    "''Write a for loop that prints all elements of a list and their position in the list."
   ]
  },
  {
   "cell_type": "code",
   "execution_count": 3,
   "id": "d11dcbd9-511d-440c-8b00-56130a409f3f",
   "metadata": {},
   "outputs": [
    {
     "name": "stdout",
     "output_type": "stream",
     "text": [
      "4 is at position 1\n",
      "7 is at position 2\n",
      "3 is at position 3\n",
      "2 is at position 4\n",
      "5 is at position 5\n",
      "9 is at position 6\n"
     ]
    }
   ],
   "source": [
    "a = [4,7,3,2,5,9]\n",
    "for item in a:\n",
    "    print(str(item) + \" is at position \" + str(a.index(item) + 1))\n"
   ]
  },
  {
   "cell_type": "code",
   "execution_count": null,
   "id": "e580424c-72b6-4408-a1e6-601aa62cf856",
   "metadata": {},
   "outputs": [],
   "source": [
    "''Please write a program which accepts a string from console and print the characters that have even indexes."
   ]
  },
  {
   "cell_type": "code",
   "execution_count": 4,
   "id": "8a6474fb-facc-4f05-b644-2d6c15a5534c",
   "metadata": {},
   "outputs": [
    {
     "name": "stdin",
     "output_type": "stream",
     "text": [
      "Enter String like H1e2l3l4o5w6o7r8l9d means alphanumeric string which wil contain alternate alphabates and numbers H1e2l3l4o5w6o7r8l9d\n"
     ]
    },
    {
     "name": "stdout",
     "output_type": "stream",
     "text": [
      "Helloworld\n"
     ]
    }
   ],
   "source": [
    "s=input(\"Enter String like H1e2l3l4o5w6o7r8l9d means alphanumeric string which wil contain alternate alphabates and numbers\")\n",
    "s = s[::2]\n",
    "print(s)\n"
   ]
  },
  {
   "cell_type": "code",
   "execution_count": null,
   "id": "e2edfa3f-ea3d-47bc-a353-ac484add0dae",
   "metadata": {},
   "outputs": [],
   "source": [
    "''Please write a program which accepts a string from console and print it in reverse order"
   ]
  },
  {
   "cell_type": "code",
   "execution_count": 5,
   "id": "a73f6a4a-9312-48e5-a35f-6687aeb27e9f",
   "metadata": {},
   "outputs": [
    {
     "name": "stdin",
     "output_type": "stream",
     "text": [
      "Enter string which you want to reverse rise to vote sir\n"
     ]
    },
    {
     "name": "stdout",
     "output_type": "stream",
     "text": [
      "ris etov ot esir\n"
     ]
    }
   ],
   "source": [
    "s=input(\"Enter string which you want to reverse\")\n",
    "s = s[::-1]\n",
    "print(s)"
   ]
  },
  {
   "cell_type": "code",
   "execution_count": null,
   "id": "dea64463-7cbb-47ec-aa8e-3329eeec4510",
   "metadata": {},
   "outputs": [],
   "source": [
    "''Please write a program which count and print the numbers of each character in a string input by console."
   ]
  },
  {
   "cell_type": "code",
   "execution_count": 6,
   "id": "2c429e28-06dc-421b-8a9f-09f17a9405b9",
   "metadata": {},
   "outputs": [
    {
     "name": "stdin",
     "output_type": "stream",
     "text": [
      "Enter string abcdefgabc\n"
     ]
    },
    {
     "name": "stdout",
     "output_type": "stream",
     "text": [
      "a,2\n",
      "b,2\n",
      "c,2\n",
      "d,1\n",
      "e,1\n",
      "f,1\n",
      "g,1\n"
     ]
    }
   ],
   "source": [
    "dic = {}\n",
    "s=input('Enter string')\n",
    "for s in s:\n",
    "    dic[s] = dic.get(s,0)+1\n",
    "print('\\n'.join(['%s,%s' % (k, v) for k, v in dic.items()]))\n"
   ]
  },
  {
   "cell_type": "code",
   "execution_count": null,
   "id": "a9298a17-f7d8-4cdb-84a3-f48c79f007ab",
   "metadata": {},
   "outputs": [],
   "source": [
    "''With two given lists [1,3,6,78,35,55] and [12,24,35,24,88,120,155], write a program to make a list whose elements are intersection of the above given lists."
   ]
  },
  {
   "cell_type": "code",
   "execution_count": 7,
   "id": "ab863de4-55c7-4637-89f0-de97ee2789a2",
   "metadata": {},
   "outputs": [
    {
     "name": "stdout",
     "output_type": "stream",
     "text": [
      "[12, 35, 88, 120, 155]\n"
     ]
    }
   ],
   "source": [
    "li = [12,24,35,24,88,120,155]\n",
    "\n",
    "li = [x for x in li if x!=24]\n",
    "\n",
    "print(li)"
   ]
  },
  {
   "cell_type": "code",
   "execution_count": null,
   "id": "2298be46-7d3d-4d74-b6c2-37ea72f6c670",
   "metadata": {},
   "outputs": [],
   "source": [
    "''Write a program to print the list after removing the 0th,4th,5th numbers in [12,24,35,70,88,120,155]."
   ]
  },
  {
   "cell_type": "code",
   "execution_count": 8,
   "id": "87a44d5f-128c-48fb-8b94-4e9609b6528a",
   "metadata": {},
   "outputs": [
    {
     "name": "stdout",
     "output_type": "stream",
     "text": [
      "[24, 35, 70, 155]\n"
     ]
    }
   ],
   "source": [
    "li = [12,24,35,70,88,120,155]\n",
    "li = [x for (i,x) in enumerate(li) if i not in (0,4,5)]\n",
    "print(li)\n"
   ]
  },
  {
   "cell_type": "code",
   "execution_count": null,
   "id": "98e8cbae-f826-4d2a-ac89-78fe6a09252d",
   "metadata": {},
   "outputs": [],
   "source": [
    "''Write a program to print the list after removing delete numbers which are divisible by 5 and 7 in [12,24,35,70,88,120,155]."
   ]
  },
  {
   "cell_type": "code",
   "execution_count": 9,
   "id": "b8be976c-679c-4245-a2b2-9ccad887d055",
   "metadata": {},
   "outputs": [
    {
     "name": "stdout",
     "output_type": "stream",
     "text": [
      "[12, 24, 88, 120, 155]\n"
     ]
    }
   ],
   "source": [
    "li = [12,24,35,70,88,120,155]\n",
    "\n",
    "li = [x for x in li if not (x%5 ==0 and x%7==0)]\n",
    "\n",
    "print(li)\n"
   ]
  },
  {
   "cell_type": "code",
   "execution_count": null,
   "id": "8a60a0c9-e498-4c44-abaf-97ddc275fee4",
   "metadata": {},
   "outputs": [],
   "source": [
    "''Write a program to compute 1/2+2/3+3/4+...+n/n+1 with a given n input by console (n>0)."
   ]
  },
  {
   "cell_type": "code",
   "execution_count": 10,
   "id": "1f89b0ae-2c12-4d73-9c15-eaf11a58ae24",
   "metadata": {},
   "outputs": [
    {
     "name": "stdin",
     "output_type": "stream",
     "text": [
      "Enter a number 5\n"
     ]
    },
    {
     "name": "stdout",
     "output_type": "stream",
     "text": [
      "3.5500000000000003\n"
     ]
    }
   ],
   "source": [
    "n=int(input(\"Enter a number\"))\n",
    "sum=0.0\n",
    "for i in range(1,n+1):\n",
    "    sum += float(float(i)/(i+1))\n",
    "print(sum)\n"
   ]
  },
  {
   "cell_type": "code",
   "execution_count": null,
   "id": "9e2bf3b5-e002-4abc-b92c-0405d0808e56",
   "metadata": {},
   "outputs": [],
   "source": []
  },
  {
   "cell_type": "code",
   "execution_count": null,
   "id": "a4aa3fca-67c4-46f7-9941-2e41463fee65",
   "metadata": {},
   "outputs": [],
   "source": []
  },
  {
   "cell_type": "code",
   "execution_count": null,
   "id": "a32a6dd0-15ad-48f8-a23c-bfe81d1e2aac",
   "metadata": {},
   "outputs": [],
   "source": []
  }
 ],
 "metadata": {
  "kernelspec": {
   "display_name": "Python 3 (ipykernel)",
   "language": "python",
   "name": "python3"
  },
  "language_info": {
   "codemirror_mode": {
    "name": "ipython",
    "version": 3
   },
   "file_extension": ".py",
   "mimetype": "text/x-python",
   "name": "python",
   "nbconvert_exporter": "python",
   "pygments_lexer": "ipython3",
   "version": "3.12.4"
  }
 },
 "nbformat": 4,
 "nbformat_minor": 5
}
