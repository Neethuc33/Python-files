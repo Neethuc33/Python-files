{
 "cells": [
  {
   "cell_type": "code",
   "execution_count": null,
   "id": "50f6963d-8669-436d-b6ea-5cf0a9a080cb",
   "metadata": {},
   "outputs": [],
   "source": [
    "''Write a NumPy program to get the numpy version and show numpy build configuration.  "
   ]
  },
  {
   "cell_type": "code",
   "execution_count": 1,
   "id": "ab84eddb-ca04-44de-8444-a518895febdd",
   "metadata": {},
   "outputs": [
    {
     "name": "stdout",
     "output_type": "stream",
     "text": [
      "1.26.4\n",
      "Build Dependencies:\n",
      "  blas:\n",
      "    detection method: pkgconfig\n",
      "    found: true\n",
      "    include directory: C:/ProgramData/anaconda3/Library/include\n",
      "    lib directory: C:/ProgramData/anaconda3/Library/lib\n",
      "    name: mkl-sdl\n",
      "    openblas configuration: unknown\n",
      "    pc file directory: C:\\b\\abs_c1ywpu18ar\\croot\\numpy_and_numpy_base_1708638681471\\_h_env\\Library\\lib\\pkgconfig\n",
      "    version: '2023.1'\n",
      "  lapack:\n",
      "    detection method: internal\n",
      "    found: true\n",
      "    include directory: unknown\n",
      "    lib directory: unknown\n",
      "    name: dep1583119523984\n",
      "    openblas configuration: unknown\n",
      "    pc file directory: unknown\n",
      "    version: 1.26.4\n",
      "Compilers:\n",
      "  c:\n",
      "    commands: cl.exe\n",
      "    linker: link\n",
      "    name: msvc\n",
      "    version: 19.29.30154\n",
      "  c++:\n",
      "    commands: cl.exe\n",
      "    linker: link\n",
      "    name: msvc\n",
      "    version: 19.29.30154\n",
      "  cython:\n",
      "    commands: cython\n",
      "    linker: cython\n",
      "    name: cython\n",
      "    version: 3.0.8\n",
      "Machine Information:\n",
      "  build:\n",
      "    cpu: x86_64\n",
      "    endian: little\n",
      "    family: x86_64\n",
      "    system: windows\n",
      "  host:\n",
      "    cpu: x86_64\n",
      "    endian: little\n",
      "    family: x86_64\n",
      "    system: windows\n",
      "Python Information:\n",
      "  path: C:\\b\\abs_c1ywpu18ar\\croot\\numpy_and_numpy_base_1708638681471\\_h_env\\python.exe\n",
      "  version: '3.12'\n",
      "SIMD Extensions:\n",
      "  baseline:\n",
      "  - SSE\n",
      "  - SSE2\n",
      "  - SSE3\n",
      "  found:\n",
      "  - SSSE3\n",
      "  - SSE41\n",
      "  - POPCNT\n",
      "  - SSE42\n",
      "  - AVX\n",
      "  - F16C\n",
      "  - FMA3\n",
      "  - AVX2\n",
      "  not found:\n",
      "  - AVX512F\n",
      "  - AVX512CD\n",
      "  - AVX512_SKX\n",
      "  - AVX512_CLX\n",
      "  - AVX512_CNL\n",
      "  - AVX512_ICL\n",
      "\n",
      "None\n"
     ]
    }
   ],
   "source": [
    "import numpy as np\n",
    "print(np.__version__)\n",
    "print(np.show_config())\n"
   ]
  },
  {
   "cell_type": "code",
   "execution_count": null,
   "id": "a5bd727f-eb36-4f3c-8428-c140ddf80421",
   "metadata": {},
   "outputs": [],
   "source": [
    "''Write a NumPy program to  get help on the add function"
   ]
  },
  {
   "cell_type": "code",
   "execution_count": 2,
   "id": "361c849a-24ff-437a-a0ca-dedba5f2b940",
   "metadata": {},
   "outputs": [
    {
     "name": "stdout",
     "output_type": "stream",
     "text": [
      "add(x1, x2, /, out=None, *, where=True, casting='same_kind', order='K', dtype=None, subok=True[, signature, extobj])\n",
      "\n",
      "Add arguments element-wise.\n",
      "\n",
      "Parameters\n",
      "----------\n",
      "x1, x2 : array_like\n",
      "    The arrays to be added.\n",
      "    If ``x1.shape != x2.shape``, they must be broadcastable to a common\n",
      "    shape (which becomes the shape of the output).\n",
      "out : ndarray, None, or tuple of ndarray and None, optional\n",
      "    A location into which the result is stored. If provided, it must have\n",
      "    a shape that the inputs broadcast to. If not provided or None,\n",
      "    a freshly-allocated array is returned. A tuple (possible only as a\n",
      "    keyword argument) must have length equal to the number of outputs.\n",
      "where : array_like, optional\n",
      "    This condition is broadcast over the input. At locations where the\n",
      "    condition is True, the `out` array will be set to the ufunc result.\n",
      "    Elsewhere, the `out` array will retain its original value.\n",
      "    Note that if an uninitialized `out` array is created via the default\n",
      "    ``out=None``, locations within it where the condition is False will\n",
      "    remain uninitialized.\n",
      "**kwargs\n",
      "    For other keyword-only arguments, see the\n",
      "    :ref:`ufunc docs <ufuncs.kwargs>`.\n",
      "\n",
      "Returns\n",
      "-------\n",
      "add : ndarray or scalar\n",
      "    The sum of `x1` and `x2`, element-wise.\n",
      "    This is a scalar if both `x1` and `x2` are scalars.\n",
      "\n",
      "Notes\n",
      "-----\n",
      "Equivalent to `x1` + `x2` in terms of array broadcasting.\n",
      "\n",
      "Examples\n",
      "--------\n",
      ">>> np.add(1.0, 4.0)\n",
      "5.0\n",
      ">>> x1 = np.arange(9.0).reshape((3, 3))\n",
      ">>> x2 = np.arange(3.0)\n",
      ">>> np.add(x1, x2)\n",
      "array([[  0.,   2.,   4.],\n",
      "       [  3.,   5.,   7.],\n",
      "       [  6.,   8.,  10.]])\n",
      "\n",
      "The ``+`` operator can be used as a shorthand for ``np.add`` on ndarrays.\n",
      "\n",
      ">>> x1 = np.arange(9.0).reshape((3, 3))\n",
      ">>> x2 = np.arange(3.0)\n",
      ">>> x1 + x2\n",
      "array([[ 0.,  2.,  4.],\n",
      "       [ 3.,  5.,  7.],\n",
      "       [ 6.,  8., 10.]])\n",
      "None\n"
     ]
    }
   ],
   "source": [
    "import numpy as np\n",
    "print(np.info(np.add))\n"
   ]
  },
  {
   "cell_type": "code",
   "execution_count": null,
   "id": "7c6b1fd3-9db1-4667-a233-88cb73d1394b",
   "metadata": {},
   "outputs": [],
   "source": [
    "''Write a NumPy program to test whether none of the elements of a given array is zero.  "
   ]
  },
  {
   "cell_type": "code",
   "execution_count": 3,
   "id": "86e26811-b594-4862-92fe-7ef3f9b1b510",
   "metadata": {},
   "outputs": [
    {
     "name": "stdout",
     "output_type": "stream",
     "text": [
      "Original array:\n",
      "[1 2 3 4]\n",
      "Test if none of the elements of the said array is zero:\n",
      "True\n"
     ]
    }
   ],
   "source": [
    "import numpy as np\n",
    "x = np.array([1, 2, 3, 4])\n",
    "print(\"Original array:\")\n",
    "print(x)\n",
    "print(\"Test if none of the elements of the said array is zero:\")\n",
    "\n",
    "print(np.all(x))\n"
   ]
  },
  {
   "cell_type": "code",
   "execution_count": 4,
   "id": "4a7f5a3b-d986-4726-9747-e54c23d71f08",
   "metadata": {},
   "outputs": [
    {
     "name": "stdout",
     "output_type": "stream",
     "text": [
      "Original array:\n",
      "[0 1 2 3]\n",
      "Test if none of the elements of the said array is zero:\n",
      "False\n"
     ]
    }
   ],
   "source": [
    "x = np.array([0, 1, 2, 3])\n",
    "print(\"Original array:\")\n",
    "print(x)\n",
    "print(\"Test if none of the elements of the said array is zero:\")\n",
    "print(np.all(x))\n"
   ]
  },
  {
   "cell_type": "code",
   "execution_count": null,
   "id": "2b780e98-fde3-4849-bd1f-8924e03a9be3",
   "metadata": {},
   "outputs": [],
   "source": [
    "''Write a NumPy program to test whether any of the elements of a given array is non-zero"
   ]
  },
  {
   "cell_type": "code",
   "execution_count": 5,
   "id": "edac5e95-3c1d-4419-9b04-2a5e60aa6ecf",
   "metadata": {},
   "outputs": [
    {
     "name": "stdout",
     "output_type": "stream",
     "text": [
      "Original array:\n",
      "[1 0 0 0]\n",
      "Test whether any of the elements of a given array is non-zero:\n",
      "True\n"
     ]
    }
   ],
   "source": [
    "import numpy as np\n",
    "x = np.array([1, 0, 0, 0])\n",
    "print(\"Original array:\")\n",
    "print(x)\n",
    "print(\"Test whether any of the elements of a given array is non-zero:\")\n",
    "print(np.any(x))\n"
   ]
  },
  {
   "cell_type": "code",
   "execution_count": 6,
   "id": "78e25b32-c21a-421b-b434-62729b50150d",
   "metadata": {},
   "outputs": [
    {
     "name": "stdout",
     "output_type": "stream",
     "text": [
      "Original array:\n",
      "[0 0 0 0]\n",
      "Test whether any of the elements of a given array is non-zero:\n",
      "False\n"
     ]
    }
   ],
   "source": [
    "x = np.array([0, 0, 0, 0])\n",
    "print(\"Original array:\")\n",
    "print(x)\n",
    "print(\"Test whether any of the elements of a given array is non-zero:\")\n",
    "print(np.any(x))\n"
   ]
  },
  {
   "cell_type": "code",
   "execution_count": null,
   "id": "6375b9be-402e-48d6-9e9d-1556c4a8a5d6",
   "metadata": {},
   "outputs": [],
   "source": [
    "''Write a NumPy program to test a given array element-wise for finiteness (not infinity or not a Number). "
   ]
  },
  {
   "cell_type": "code",
   "execution_count": 7,
   "id": "03228529-b231-4578-b4c1-aa32df768f18",
   "metadata": {},
   "outputs": [
    {
     "name": "stdout",
     "output_type": "stream",
     "text": [
      "Original array\n",
      "[ 1.  0. nan inf]\n",
      "Test a given array element-wise for finiteness :\n",
      "[ True  True False False]\n"
     ]
    }
   ],
   "source": [
    "import numpy as np\n",
    "a = np.array([1, 0, np.nan, np.inf])\n",
    "print(\"Original array\")\n",
    "print(a)\n",
    "print(\"Test a given array element-wise for finiteness :\")\n",
    "print(np.isfinite(a))"
   ]
  },
  {
   "cell_type": "code",
   "execution_count": null,
   "id": "d316ad23-8b60-4832-991b-224e434fec7c",
   "metadata": {},
   "outputs": [],
   "source": [
    "''Write a NumPy program to test element-wise for positive or negative infinity.  "
   ]
  },
  {
   "cell_type": "code",
   "execution_count": 8,
   "id": "2946e143-7565-4c53-babd-71dd7f8fc2dc",
   "metadata": {},
   "outputs": [
    {
     "name": "stdout",
     "output_type": "stream",
     "text": [
      "Original array\n",
      "[ 1.  0. nan inf]\n",
      "Test element-wise for positive or negative infinity:\n",
      "[False False False  True]\n"
     ]
    }
   ],
   "source": [
    "import numpy as np\n",
    "a = np.array([1, 0, np.nan, np.inf])\n",
    "print(\"Original array\")\n",
    "print(a)\n",
    "print(\"Test element-wise for positive or negative infinity:\")\n",
    "print(np.isinf(a))\n"
   ]
  },
  {
   "cell_type": "code",
   "execution_count": null,
   "id": "5bc8822e-df47-4b08-bba4-921d1a4b813f",
   "metadata": {},
   "outputs": [],
   "source": [
    "''Write a NumPy program to test element-wise for NaN of a given array.  "
   ]
  },
  {
   "cell_type": "code",
   "execution_count": 9,
   "id": "f8444408-e2ea-4a05-99e9-c1a6db03c66c",
   "metadata": {},
   "outputs": [
    {
     "name": "stdout",
     "output_type": "stream",
     "text": [
      "Original array\n",
      "[ 1.  0. nan inf]\n",
      "Test element-wise for NaN:\n",
      "[False False  True False]\n"
     ]
    }
   ],
   "source": [
    "import numpy as np\n",
    "a = np.array([1, 0, np.nan, np.inf])\n",
    "print(\"Original array\")\n",
    "print(a)\n",
    "print(\"Test element-wise for NaN:\")\n",
    "print(np.isnan(a))"
   ]
  },
  {
   "cell_type": "code",
   "execution_count": null,
   "id": "3dddd043-2c98-434d-902f-ff0445b048fe",
   "metadata": {},
   "outputs": [],
   "source": [
    "''Write a NumPy program to test element-wise for complex number, real number of a given array. Also test whether a given number is a scalar type or not.  "
   ]
  },
  {
   "cell_type": "code",
   "execution_count": 10,
   "id": "efa00bb5-a879-4863-9265-d8909517c72f",
   "metadata": {},
   "outputs": [
    {
     "name": "stdout",
     "output_type": "stream",
     "text": [
      "Original array\n",
      "[1. +1.j 1. +0.j 4.5+0.j 3. +0.j 2. +0.j 0. +2.j]\n",
      "Checking for complex number:\n",
      "[ True False False False False  True]\n",
      "Checking for real number:\n",
      "[False  True  True  True  True False]\n",
      "Checking for scalar type:\n",
      "True\n",
      "False\n"
     ]
    }
   ],
   "source": [
    "import numpy as np\n",
    "a = np.array([1+1j, 1+0j, 4.5, 3, 2, 2j])\n",
    "print(\"Original array\")\n",
    "print(a)\n",
    "print(\"Checking for complex number:\")\n",
    "print(np.iscomplex(a))\n",
    "print(\"Checking for real number:\")\n",
    "print(np.isreal(a))\n",
    "print(\"Checking for scalar type:\")\n",
    "print(np.isscalar(3.1))\n",
    "print(np.isscalar([3.1]))\n"
   ]
  },
  {
   "cell_type": "code",
   "execution_count": null,
   "id": "5286d32d-75c9-4a85-9594-615677e7f460",
   "metadata": {},
   "outputs": [],
   "source": [
    "''Write a NumPy program to create an element-wise comparison (greater, greater_equal, less and less_equal) of two given arrays.  "
   ]
  },
  {
   "cell_type": "code",
   "execution_count": 11,
   "id": "7bb9081c-a1a4-414c-a039-bedf6e270f55",
   "metadata": {},
   "outputs": [
    {
     "name": "stdout",
     "output_type": "stream",
     "text": [
      "Original numbers:\n",
      "[3 5]\n",
      "[2 5]\n",
      "Comparison - greater\n",
      "[ True False]\n",
      "Comparison - greater_equal\n",
      "[ True  True]\n",
      "Comparison - less\n",
      "[False False]\n",
      "Comparison - less_equal\n",
      "[False  True]\n"
     ]
    }
   ],
   "source": [
    "import numpy as np\n",
    "x = np.array([3, 5])\n",
    "y = np.array([2, 5])\n",
    "print(\"Original numbers:\")\n",
    "print(x)\n",
    "print(y)\n",
    "print(\"Comparison - greater\")\n",
    "print(np.greater(x, y))\n",
    "print(\"Comparison - greater_equal\")\n",
    "print(np.greater_equal(x, y))\n",
    "print(\"Comparison - less\")\n",
    "print(np.less(x, y))\n",
    "print(\"Comparison - less_equal\")\n",
    "print(np.less_equal(x, y))"
   ]
  },
  {
   "cell_type": "code",
   "execution_count": null,
   "id": "bc1d1bb5-9e5e-4237-af1e-d6fc9e6d757e",
   "metadata": {},
   "outputs": [],
   "source": [
    "''Write a NumPy program to create an element-wise comparison (equal, equal within a tolerance) of two given arrays.  "
   ]
  },
  {
   "cell_type": "code",
   "execution_count": 12,
   "id": "907d2044-5318-4247-8656-f49ed031a952",
   "metadata": {},
   "outputs": [
    {
     "name": "stdout",
     "output_type": "stream",
     "text": [
      "Original numbers:\n",
      "[  72   79   85   90  150 -135  120  -10   60  100]\n",
      "[  72.         79.         85.         90.        150.       -135.\n",
      "  120.        -10.         60.        100.000001]\n",
      "Comparison - equal:\n",
      "[ True  True  True  True  True  True  True  True  True False]\n",
      "Comparison - equal within a tolerance:\n",
      "True\n"
     ]
    }
   ],
   "source": [
    "import numpy as np\n",
    "x = np.array([72, 79, 85, 90, 150, -135, 120, -10, 60, 100])\n",
    "y = np.array([72, 79, 85, 90, 150, -135, 120, -10, 60, 100.000001])\n",
    "print(\"Original numbers:\")\n",
    "print(x)\n",
    "print(y)\n",
    "print(\"Comparison - equal:\")\n",
    "print(np.equal(x, y))\n",
    "print(\"Comparison - equal within a tolerance:\")\n",
    "print(np.allclose(x, y))"
   ]
  },
  {
   "cell_type": "code",
   "execution_count": null,
   "id": "3b745048-3e4c-418a-8087-6f0add51c2da",
   "metadata": {},
   "outputs": [],
   "source": [
    "''Write a NumPy program to create an array with the values 1, 7, 13, 105 and determine the size of the memory occupied by the array.  "
   ]
  },
  {
   "cell_type": "code",
   "execution_count": 13,
   "id": "2660a467-2f9f-4138-9a48-c0510dd16fdc",
   "metadata": {},
   "outputs": [
    {
     "name": "stdout",
     "output_type": "stream",
     "text": [
      "Original array:\n",
      "[  1   7  13 105]\n",
      "Size of the memory occupied by the said array:\n",
      "16 bytes\n"
     ]
    }
   ],
   "source": [
    "import numpy as np\n",
    "X = np.array([1, 7, 13, 105])\n",
    "print(\"Original array:\")\n",
    "print(X)\n",
    "print(\"Size of the memory occupied by the said array:\")\n",
    "print(\"%d bytes\" % (X.size * X.itemsize))"
   ]
  },
  {
   "cell_type": "code",
   "execution_count": null,
   "id": "14f221c4-92b9-494a-9a55-9d626c00a83a",
   "metadata": {},
   "outputs": [],
   "source": [
    "''Write a NumPy program to create an array of 10 zeros,10 ones, 10 fives. "
   ]
  },
  {
   "cell_type": "code",
   "execution_count": 14,
   "id": "eff639fb-db53-4e93-91a4-82d6786dc5fd",
   "metadata": {},
   "outputs": [
    {
     "name": "stdout",
     "output_type": "stream",
     "text": [
      "An array of 10 zeros:\n",
      "[0. 0. 0. 0. 0. 0. 0. 0. 0. 0.]\n",
      "An array of 10 ones:\n",
      "[1. 1. 1. 1. 1. 1. 1. 1. 1. 1.]\n",
      "An array of 10 fives:\n",
      "[5. 5. 5. 5. 5. 5. 5. 5. 5. 5.]\n"
     ]
    }
   ],
   "source": [
    "import numpy as np\n",
    "array=np.zeros(10)\n",
    "print(\"An array of 10 zeros:\")\n",
    "print(array)\n",
    "array=np.ones(10)\n",
    "print(\"An array of 10 ones:\")\n",
    "print(array)\n",
    "array=np.ones(10)*5\n",
    "print(\"An array of 10 fives:\")\n",
    "print(array)"
   ]
  },
  {
   "cell_type": "code",
   "execution_count": null,
   "id": "45c0b1ab-c93d-4b6a-b4a0-e1c4685f6c5c",
   "metadata": {},
   "outputs": [],
   "source": [
    "''Write a NumPy program to create an array of the integers from 30 to70.  "
   ]
  },
  {
   "cell_type": "code",
   "execution_count": 15,
   "id": "1d124e98-510e-4055-ae5a-c2b67ebb84c0",
   "metadata": {},
   "outputs": [
    {
     "name": "stdout",
     "output_type": "stream",
     "text": [
      "Array of the integers from 30 to70\n",
      "[30 31 32 33 34 35 36 37 38 39 40 41 42 43 44 45 46 47 48 49 50 51 52 53\n",
      " 54 55 56 57 58 59 60 61 62 63 64 65 66 67 68 69 70]\n"
     ]
    }
   ],
   "source": [
    "import numpy as np\n",
    "array=np.arange(30,71)\n",
    "print(\"Array of the integers from 30 to70\")\n",
    "print(array)"
   ]
  },
  {
   "cell_type": "code",
   "execution_count": null,
   "id": "57d78b12-c1e2-44ca-a961-96e50741d4a8",
   "metadata": {},
   "outputs": [],
   "source": [
    "''Write a NumPy program to create an array of all the even integers from 30 to 70. "
   ]
  },
  {
   "cell_type": "code",
   "execution_count": 16,
   "id": "cf1d5498-e209-4ff1-9321-8f1b27597155",
   "metadata": {},
   "outputs": [
    {
     "name": "stdout",
     "output_type": "stream",
     "text": [
      "Array of all the even integers from 30 to 70\n",
      "[30 32 34 36 38 40 42 44 46 48 50 52 54 56 58 60 62 64 66 68 70]\n"
     ]
    }
   ],
   "source": [
    "import numpy as np\n",
    "array=np.arange(30,71,2)\n",
    "print(\"Array of all the even integers from 30 to 70\")\n",
    "print(array)"
   ]
  },
  {
   "cell_type": "code",
   "execution_count": null,
   "id": "828c3308-cae2-4309-adcc-35a2159e8bd9",
   "metadata": {},
   "outputs": [],
   "source": []
  },
  {
   "cell_type": "code",
   "execution_count": null,
   "id": "d25f004f-9ced-4e02-97d1-d26b69bea860",
   "metadata": {},
   "outputs": [],
   "source": []
  },
  {
   "cell_type": "code",
   "execution_count": null,
   "id": "7bdc145f-f3a4-4dd2-b658-d55a11bb64c2",
   "metadata": {},
   "outputs": [],
   "source": []
  },
  {
   "cell_type": "code",
   "execution_count": null,
   "id": "c19b8d29-7186-4ada-890a-12be2695cbf9",
   "metadata": {},
   "outputs": [],
   "source": []
  }
 ],
 "metadata": {
  "kernelspec": {
   "display_name": "Python 3 (ipykernel)",
   "language": "python",
   "name": "python3"
  },
  "language_info": {
   "codemirror_mode": {
    "name": "ipython",
    "version": 3
   },
   "file_extension": ".py",
   "mimetype": "text/x-python",
   "name": "python",
   "nbconvert_exporter": "python",
   "pygments_lexer": "ipython3",
   "version": "3.12.4"
  }
 },
 "nbformat": 4,
 "nbformat_minor": 5
}
