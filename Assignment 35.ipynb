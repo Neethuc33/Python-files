{
 "cells": [
  {
   "cell_type": "code",
   "execution_count": 2,
   "id": "1849604f-795e-4cfe-b501-52dd171b9dd5",
   "metadata": {},
   "outputs": [],
   "source": [
    "import pandas as pd\n",
    "import os"
   ]
  },
  {
   "cell_type": "code",
   "execution_count": 3,
   "id": "10c2d0c3-6f63-4e78-82f9-b41a5769baa5",
   "metadata": {},
   "outputs": [
    {
     "name": "stdout",
     "output_type": "stream",
     "text": [
      "C:\\Users\\LENOVO\\Desktop\\My File\n"
     ]
    }
   ],
   "source": [
    "os.chdir ('C:\\\\Users\\\\LENOVO\\\\Desktop\\\\My File\\\\')\n",
    "print (os.getcwd())"
   ]
  },
  {
   "cell_type": "code",
   "execution_count": 4,
   "id": "a92b91cb-11cd-42fc-a671-33070b2ecfda",
   "metadata": {},
   "outputs": [
    {
     "name": "stdout",
     "output_type": "stream",
     "text": [
      "    Private   Apps  Accept  Enroll  Top10perc  Top25perc  F.Undergrad  \\\n",
      "0       Yes   1660    1232     721         23         52         2885   \n",
      "1       Yes   2186    1924     512         16         29         2683   \n",
      "2       Yes   1428    1097     336         22         50         1036   \n",
      "3       Yes    417     349     137         60         89          510   \n",
      "4       Yes    193     146      55         16         44          249   \n",
      "..      ...    ...     ...     ...        ...        ...          ...   \n",
      "772      No   2197    1515     543          4         26         3089   \n",
      "773     Yes   1959    1805     695         24         47         2849   \n",
      "774     Yes   2097    1915     695         34         61         2793   \n",
      "775     Yes  10705    2453    1317         95         99         5217   \n",
      "776     Yes   2989    1855     691         28         63         2988   \n",
      "\n",
      "     P.Undergrad  Outstate  Room.Board  Books  Personal  PhD  Terminal  \\\n",
      "0            537      7440        3300    450      2200   70        78   \n",
      "1           1227     12280        6450    750      1500   29        30   \n",
      "2             99     11250        3750    400      1165   53        66   \n",
      "3             63     12960        5450    450       875   92        97   \n",
      "4            869      7560        4120    800      1500   76        72   \n",
      "..           ...       ...         ...    ...       ...  ...       ...   \n",
      "772         2029      6797        3900    500      1200   60        60   \n",
      "773         1107     11520        4960    600      1250   73        75   \n",
      "774          166      6900        4200    617       781   67        75   \n",
      "775           83     19840        6510    630      2115   96        96   \n",
      "776         1726      4990        3560    500      1250   75        75   \n",
      "\n",
      "     S.F.Ratio  perc.alumni  Expend  Grad.Rate  \n",
      "0         18.1           12    7041         60  \n",
      "1         12.2           16   10527         56  \n",
      "2         12.9           30    8735         54  \n",
      "3          7.7           37   19016         59  \n",
      "4         11.9            2   10922         15  \n",
      "..         ...          ...     ...        ...  \n",
      "772       21.0           14    4469         40  \n",
      "773       13.3           31    9189         83  \n",
      "774       14.4           20    8323         49  \n",
      "775        5.8           49   40386         99  \n",
      "776       18.1           28    4509         99  \n",
      "\n",
      "[777 rows x 18 columns]\n"
     ]
    }
   ],
   "source": [
    "df = pd.read_csv(\"College.csv\")\n",
    "print (df)"
   ]
  },
  {
   "cell_type": "code",
   "execution_count": 5,
   "id": "3e6fcb99-277a-40e7-84ab-3b55e8603465",
   "metadata": {},
   "outputs": [
    {
     "name": "stdout",
     "output_type": "stream",
     "text": [
      "(777, 18)\n",
      "Index(['Private', 'Apps', 'Accept', 'Enroll', 'Top10perc', 'Top25perc',\n",
      "       'F.Undergrad', 'P.Undergrad', 'Outstate', 'Room.Board', 'Books',\n",
      "       'Personal', 'PhD', 'Terminal', 'S.F.Ratio', 'perc.alumni', 'Expend',\n",
      "       'Grad.Rate'],\n",
      "      dtype='object')\n"
     ]
    }
   ],
   "source": [
    "print (df.shape)\n",
    "print (df.columns)"
   ]
  },
  {
   "cell_type": "code",
   "execution_count": 6,
   "id": "e9e88812-85f7-4921-a092-97304da5247a",
   "metadata": {},
   "outputs": [
    {
     "name": "stdout",
     "output_type": "stream",
     "text": [
      "(621, 17)\n"
     ]
    }
   ],
   "source": [
    "from sklearn.model_selection import train_test_split\n",
    "from sklearn.preprocessing import LabelEncoder\n",
    "\n",
    "X, y = df.iloc[:, 1:].values, df.iloc[:, 0].values\n",
    "\n",
    "# Encode label category  male -> 1 and  female -> 0\n",
    "\n",
    "target_encoder = LabelEncoder()\n",
    "y = target_encoder.fit_transform(y)\n",
    "\n",
    "X_train, X_test, y_train, y_test = train_test_split(X, y, test_size=0.2, random_state=1)\n",
    "print(X_train.shape)"
   ]
  },
  {
   "cell_type": "code",
   "execution_count": 7,
   "id": "69c29061-edde-4d70-bd87-b8db59cbd4ca",
   "metadata": {},
   "outputs": [
    {
     "name": "stdout",
     "output_type": "stream",
     "text": [
      "0.8974358974358975\n"
     ]
    },
    {
     "name": "stderr",
     "output_type": "stream",
     "text": [
      "C:\\ProgramData\\anaconda3\\Lib\\site-packages\\sklearn\\svm\\_classes.py:31: FutureWarning: The default value of `dual` will change from `True` to `'auto'` in 1.5. Set the value of `dual` explicitly to suppress the warning.\n",
      "  warnings.warn(\n",
      "C:\\ProgramData\\anaconda3\\Lib\\site-packages\\sklearn\\svm\\_base.py:1237: ConvergenceWarning: Liblinear failed to converge, increase the number of iterations.\n",
      "  warnings.warn(\n"
     ]
    }
   ],
   "source": [
    "from sklearn.svm import LinearSVC,SVC\n",
    "classifier = LinearSVC()\n",
    "\n",
    "\n",
    "classifier.fit(X_train,y_train)\n",
    "\n",
    "y_predict = classifier.predict(X_test)\n",
    "\n",
    "print (classifier.score(X_test,y_test))"
   ]
  },
  {
   "cell_type": "code",
   "execution_count": 8,
   "id": "2309cd4e-0457-4736-8964-91862b49e831",
   "metadata": {},
   "outputs": [
    {
     "name": "stdout",
     "output_type": "stream",
     "text": [
      "[[ 24   1]\n",
      " [ 15 116]]\n"
     ]
    }
   ],
   "source": [
    "from sklearn.metrics import confusion_matrix\n",
    "\n",
    "print(confusion_matrix(y_predict,y_test))"
   ]
  },
  {
   "cell_type": "code",
   "execution_count": 9,
   "id": "3fd97f8f-047f-4d0f-a031-fea211473b84",
   "metadata": {},
   "outputs": [
    {
     "name": "stdout",
     "output_type": "stream",
     "text": [
      "0.8974358974358975\n"
     ]
    }
   ],
   "source": [
    "from sklearn.metrics import accuracy_score\n",
    "accuracy = accuracy_score(y_predict,y_test)\n",
    "print (accuracy )"
   ]
  },
  {
   "cell_type": "code",
   "execution_count": 10,
   "id": "2bb02e4c-a235-43af-bc28-e57c795310b9",
   "metadata": {},
   "outputs": [
    {
     "name": "stdout",
     "output_type": "stream",
     "text": [
      "              precision    recall  f1-score   support\n",
      "\n",
      "           0       0.96      0.62      0.75        39\n",
      "           1       0.89      0.99      0.94       117\n",
      "\n",
      "    accuracy                           0.90       156\n",
      "   macro avg       0.92      0.80      0.84       156\n",
      "weighted avg       0.90      0.90      0.89       156\n",
      "\n"
     ]
    }
   ],
   "source": [
    "from sklearn.metrics import classification_report\n",
    "print(classification_report(y_test, y_predict))"
   ]
  },
  {
   "cell_type": "code",
   "execution_count": null,
   "id": "13a8b982-74e4-45f8-bf7b-e1bb234f094d",
   "metadata": {},
   "outputs": [],
   "source": []
  },
  {
   "cell_type": "code",
   "execution_count": null,
   "id": "5ed8f3c3-ac7e-4ccd-9bec-933add01fcb1",
   "metadata": {},
   "outputs": [],
   "source": []
  },
  {
   "cell_type": "code",
   "execution_count": null,
   "id": "5be18595-e033-476c-9d65-1d2f63126dbb",
   "metadata": {},
   "outputs": [],
   "source": []
  },
  {
   "cell_type": "code",
   "execution_count": null,
   "id": "5c573f08-f523-4b81-a90a-fb2a48f74fe8",
   "metadata": {},
   "outputs": [],
   "source": []
  },
  {
   "cell_type": "code",
   "execution_count": null,
   "id": "1a757e9f-49c6-418e-a565-a1a50b38f5f4",
   "metadata": {},
   "outputs": [],
   "source": []
  },
  {
   "cell_type": "code",
   "execution_count": null,
   "id": "44a0cf66-a1e3-4edf-88d1-e7b630364f6a",
   "metadata": {},
   "outputs": [],
   "source": []
  },
  {
   "cell_type": "code",
   "execution_count": null,
   "id": "2ed01a82-d210-4d81-9338-594ea77a3d50",
   "metadata": {},
   "outputs": [],
   "source": []
  },
  {
   "cell_type": "code",
   "execution_count": null,
   "id": "b560a88f-da39-41bf-9067-f731df7a4cdf",
   "metadata": {},
   "outputs": [],
   "source": []
  },
  {
   "cell_type": "code",
   "execution_count": null,
   "id": "36f5cecb-ea61-4d8a-9208-1563d363f3dd",
   "metadata": {},
   "outputs": [],
   "source": []
  },
  {
   "cell_type": "code",
   "execution_count": null,
   "id": "2560b84c-7970-421f-9a43-144bfff1104a",
   "metadata": {},
   "outputs": [],
   "source": []
  },
  {
   "cell_type": "code",
   "execution_count": null,
   "id": "be9859a5-ad98-40ea-bd90-4fca6441dfb7",
   "metadata": {},
   "outputs": [],
   "source": []
  },
  {
   "cell_type": "code",
   "execution_count": null,
   "id": "517503e9-f368-49c2-8945-b30bc721bc21",
   "metadata": {},
   "outputs": [],
   "source": []
  },
  {
   "cell_type": "code",
   "execution_count": null,
   "id": "532cd194-eda0-4758-bf14-7bd63aa38d03",
   "metadata": {},
   "outputs": [],
   "source": []
  },
  {
   "cell_type": "code",
   "execution_count": null,
   "id": "c56b1e15-a39f-44b1-919d-094852db6e1e",
   "metadata": {},
   "outputs": [],
   "source": []
  },
  {
   "cell_type": "code",
   "execution_count": null,
   "id": "c3a2a65e-aac0-4ea6-8dc6-47c8318e284e",
   "metadata": {},
   "outputs": [],
   "source": []
  },
  {
   "cell_type": "code",
   "execution_count": null,
   "id": "3f3d608b-176f-4dc0-9bd7-235064550000",
   "metadata": {},
   "outputs": [],
   "source": []
  },
  {
   "cell_type": "code",
   "execution_count": null,
   "id": "e36e9a3e-7535-4dc1-a5bc-2649a4a9ae35",
   "metadata": {},
   "outputs": [],
   "source": []
  },
  {
   "cell_type": "code",
   "execution_count": null,
   "id": "1ee091a3-4eca-40f0-b335-7f55d42f9b97",
   "metadata": {},
   "outputs": [],
   "source": []
  },
  {
   "cell_type": "code",
   "execution_count": null,
   "id": "d887f631-5e73-4f74-b019-9cd5320d67d5",
   "metadata": {},
   "outputs": [],
   "source": []
  },
  {
   "cell_type": "code",
   "execution_count": null,
   "id": "b12a6ca1-fbd3-4636-9a91-bef50c082005",
   "metadata": {},
   "outputs": [],
   "source": []
  },
  {
   "cell_type": "code",
   "execution_count": null,
   "id": "090b4b33-9d3e-4e57-bd38-ed87429e381b",
   "metadata": {},
   "outputs": [],
   "source": []
  },
  {
   "cell_type": "code",
   "execution_count": null,
   "id": "fab2848a-9273-4a22-800c-0d419e5e7d53",
   "metadata": {},
   "outputs": [],
   "source": []
  },
  {
   "cell_type": "code",
   "execution_count": null,
   "id": "39b34904-44cf-4a16-8d96-331cff95ee96",
   "metadata": {},
   "outputs": [],
   "source": []
  },
  {
   "cell_type": "code",
   "execution_count": null,
   "id": "879596b0-69d2-485a-b2d6-613e62f56b9e",
   "metadata": {},
   "outputs": [],
   "source": []
  },
  {
   "cell_type": "code",
   "execution_count": null,
   "id": "1c473096-8025-4e90-9f39-6ce183963d34",
   "metadata": {},
   "outputs": [],
   "source": []
  },
  {
   "cell_type": "code",
   "execution_count": null,
   "id": "2a59aac6-fe1d-4f6f-aec7-614d88a48e03",
   "metadata": {},
   "outputs": [],
   "source": []
  },
  {
   "cell_type": "code",
   "execution_count": null,
   "id": "d2fdd4b7-7284-4898-ab9c-e9a3bd892eef",
   "metadata": {},
   "outputs": [],
   "source": []
  },
  {
   "cell_type": "code",
   "execution_count": null,
   "id": "5cfa6b69-d14a-4605-8db0-aa2269f9e937",
   "metadata": {},
   "outputs": [],
   "source": []
  },
  {
   "cell_type": "code",
   "execution_count": null,
   "id": "0b335b91-ae46-4f5f-8c94-99ff369fa4f7",
   "metadata": {},
   "outputs": [],
   "source": []
  },
  {
   "cell_type": "code",
   "execution_count": null,
   "id": "e654af5b-bd98-4664-8ec0-fe769badaec6",
   "metadata": {},
   "outputs": [],
   "source": []
  }
 ],
 "metadata": {
  "kernelspec": {
   "display_name": "Python 3 (ipykernel)",
   "language": "python",
   "name": "python3"
  },
  "language_info": {
   "codemirror_mode": {
    "name": "ipython",
    "version": 3
   },
   "file_extension": ".py",
   "mimetype": "text/x-python",
   "name": "python",
   "nbconvert_exporter": "python",
   "pygments_lexer": "ipython3",
   "version": "3.12.4"
  }
 },
 "nbformat": 4,
 "nbformat_minor": 5
}
